{
 "cells": [
  {
   "cell_type": "markdown",
   "id": "7178c521",
   "metadata": {},
   "source": [
    "# Introducción a Keras: Implementando una RNA para clasificación"
   ]
  },
  {
   "cell_type": "markdown",
   "id": "b1534bdb",
   "metadata": {},
   "source": [
    "## Pasos en la implementación de una Red Neuronal Artificial en Keras"
   ]
  },
  {
   "cell_type": "markdown",
   "id": "6c954ac2",
   "metadata": {},
   "source": [
    "1. Define tu conjunto de datos de entrenamiento: vectores de entrada y de salida\n",
    "2. Define la arquitectura de la Red Neuronal Artificial\n",
    "3. Configura el proceso de aprendizaje mediante la selección de una función de error, una función de optimización y diferentes metricas para monitorizar el proceso\n",
    "4. Entrena la RNA con tu conjunto de datos de entrenamiento mediante el uso del método **fit()**"
   ]
  },
  {
   "cell_type": "markdown",
   "id": "2c878f4c",
   "metadata": {},
   "source": [
    "## 0. Imports"
   ]
  },
  {
   "cell_type": "markdown",
   "id": "ec7ab283",
   "metadata": {},
   "source": [
    "Lo primero que debe hacerse es importar las librerías especificas necesarias para la implementación de la Red Neuronal Artificial: En las nuevas versiones de TensorFlow y Keras, la recomendación es utilizar Keras a través del framework TensorFlow"
   ]
  },
  {
   "cell_type": "code",
   "execution_count": 1,
   "id": "67af4815",
   "metadata": {},
   "outputs": [
    {
     "data": {
      "text/plain": [
       "'2.6.0'"
      ]
     },
     "execution_count": 1,
     "metadata": {},
     "output_type": "execute_result"
    }
   ],
   "source": [
    "import tensorflow as tf\n",
    "\n",
    "tf.__version__"
   ]
  },
  {
   "cell_type": "code",
   "execution_count": 2,
   "id": "55742a49",
   "metadata": {},
   "outputs": [
    {
     "data": {
      "text/plain": [
       "'2.6.0'"
      ]
     },
     "execution_count": 2,
     "metadata": {},
     "output_type": "execute_result"
    }
   ],
   "source": [
    "from tensorflow import keras\n",
    "\n",
    "keras.__version__"
   ]
  },
  {
   "cell_type": "markdown",
   "id": "23988e6e",
   "metadata": {},
   "source": [
    "## 1. Difinicion del conjunto de datos de entrenamiento"
   ]
  },
  {
   "cell_type": "markdown",
   "id": "0a0c913e",
   "metadata": {},
   "source": [
    "### 1.1. importando el conjunto de datos"
   ]
  },
  {
   "cell_type": "markdown",
   "id": "7bca26d6",
   "metadata": {},
   "source": [
    "Keras nos proporciona algunos conjuntos de datos de prueba que podemos utilizar para la realización de pruebas."
   ]
  },
  {
   "cell_type": "code",
   "execution_count": 3,
   "id": "e58f2bdb",
   "metadata": {},
   "outputs": [],
   "source": [
    "from tensorflow.keras import datasets"
   ]
  },
  {
   "cell_type": "markdown",
   "id": "35bb3990",
   "metadata": {},
   "source": [
    "Podemos utilizar tab sobre 'datasets' para visualizar los conjuntos de datos disponibles. En este caso vamos a importar el conjunto de datos MNIST."
   ]
  },
  {
   "cell_type": "code",
   "execution_count": 4,
   "id": "89f4616e",
   "metadata": {},
   "outputs": [],
   "source": [
    "mnist = datasets.mnist"
   ]
  },
  {
   "cell_type": "markdown",
   "id": "c304f5f1",
   "metadata": {},
   "source": [
    "Podemos utilizar shift + tab sobre 'load_data()' para visualizar el input y output del método."
   ]
  },
  {
   "cell_type": "code",
   "execution_count": 5,
   "id": "fd849eea",
   "metadata": {},
   "outputs": [
    {
     "name": "stdout",
     "output_type": "stream",
     "text": [
      "Downloading data from https://storage.googleapis.com/tensorflow/tf-keras-datasets/mnist.npz\n",
      "11493376/11490434 [==============================] - 3s 0us/step\n",
      "11501568/11490434 [==============================] - 3s 0us/step\n"
     ]
    }
   ],
   "source": [
    "(X_train, y_train), (X_test, y_test) = mnist.load_data()"
   ]
  },
  {
   "cell_type": "markdown",
   "id": "c8ec30c1",
   "metadata": {},
   "source": [
    "El conjunto de datos importado está formado por un total de 70000 imagenes divididas en dos conjuntos de datos, el conjunto de datos de entrenamiento X_train (60000 imagenes) y el conjunto de datos de pruebas (10000 imágenes)."
   ]
  },
  {
   "cell_type": "code",
   "execution_count": 6,
   "id": "b650a471",
   "metadata": {},
   "outputs": [
    {
     "data": {
      "text/plain": [
       "(60000, 28, 28)"
      ]
     },
     "execution_count": 6,
     "metadata": {},
     "output_type": "execute_result"
    }
   ],
   "source": [
    "X_train.shape"
   ]
  },
  {
   "cell_type": "code",
   "execution_count": 7,
   "id": "abc3f0fe",
   "metadata": {},
   "outputs": [
    {
     "data": {
      "text/plain": [
       "(10000, 28, 28)"
      ]
     },
     "execution_count": 7,
     "metadata": {},
     "output_type": "execute_result"
    }
   ],
   "source": [
    "X_test.shape"
   ]
  },
  {
   "cell_type": "markdown",
   "id": "e1b64993",
   "metadata": {},
   "source": [
    "Las etiquetas se corresponden con el valor númerico que representa la imágen."
   ]
  },
  {
   "cell_type": "code",
   "execution_count": 8,
   "id": "569b187f",
   "metadata": {},
   "outputs": [
    {
     "data": {
      "text/plain": [
       "(60000,)"
      ]
     },
     "execution_count": 8,
     "metadata": {},
     "output_type": "execute_result"
    }
   ],
   "source": [
    "y_train.shape"
   ]
  },
  {
   "cell_type": "code",
   "execution_count": 9,
   "id": "ad893577",
   "metadata": {},
   "outputs": [
    {
     "data": {
      "text/plain": [
       "5"
      ]
     },
     "execution_count": 9,
     "metadata": {},
     "output_type": "execute_result"
    }
   ],
   "source": [
    "y_train[0]"
   ]
  },
  {
   "cell_type": "markdown",
   "id": "6677679c",
   "metadata": {},
   "source": [
    "### 1.2. Visualizando el conjunto de datos"
   ]
  },
  {
   "cell_type": "code",
   "execution_count": 10,
   "id": "fdc59001",
   "metadata": {},
   "outputs": [],
   "source": [
    "import numpy as np\n",
    "import matplotlib.pyplot as plt"
   ]
  },
  {
   "cell_type": "code",
   "execution_count": 11,
   "id": "488cc092",
   "metadata": {},
   "outputs": [
    {
     "data": {
      "image/png": "[encoded data removed]",
      "text/plain": [
       "<Figure size 1440x288 with 8 Axes>"
      ]
     },
     "metadata": {
      "needs_background": "light"
     },
     "output_type": "display_data"
    }
   ],
   "source": [
    "# Visualización de los primeros 8 ejemplos de nuestro conjunto de datos de entrenamiento\n",
    "plt.figure(figsize=(20, 4))\n",
    "\n",
    "for index, digit in zip(range(1, 9), X_train[:8]):\n",
    "    plt.subplot(1, 8, index)\n",
    "    plt.imshow(np.reshape(digit, (28, 28)), cmap=plt.cm.gray)\n",
    "    plt.title('Ejemplo: ' + str(index))\n",
    "plt.show()"
   ]
  },
  {
   "cell_type": "markdown",
   "id": "05385ab6",
   "metadata": {},
   "source": [
    "### 1.3. División del conjunto de datos"
   ]
  },
  {
   "cell_type": "markdown",
   "id": "2ed08711",
   "metadata": {},
   "source": [
    "Para la realización de una serie de pruebas adicionales vamos a dividir el conjunto de datos de prueba en dos subconjuntos, el conjunto de validación (X_val) y el conjunto de pruebas(X_test)"
   ]
  },
  {
   "cell_type": "code",
   "execution_count": 12,
   "id": "f6a6ca13",
   "metadata": {},
   "outputs": [],
   "source": [
    "from sklearn.model_selection import train_test_split\n",
    "\n",
    "X_test, X_val, y_test, y_val = train_test_split(X_test, y_test, test_size=0.5)"
   ]
  },
  {
   "cell_type": "code",
   "execution_count": 13,
   "id": "dac3934a",
   "metadata": {},
   "outputs": [
    {
     "data": {
      "text/plain": [
       "(5000, 28, 28)"
      ]
     },
     "execution_count": 13,
     "metadata": {},
     "output_type": "execute_result"
    }
   ],
   "source": [
    "X_test.shape"
   ]
  },
  {
   "cell_type": "code",
   "execution_count": 14,
   "id": "76b99bba",
   "metadata": {},
   "outputs": [
    {
     "data": {
      "text/plain": [
       "(5000, 28, 28)"
      ]
     },
     "execution_count": 14,
     "metadata": {},
     "output_type": "execute_result"
    }
   ],
   "source": [
    "X_val.shape"
   ]
  },
  {
   "cell_type": "markdown",
   "id": "2cf727cc",
   "metadata": {},
   "source": [
    "## Definicion de la arquitectura de la Red Neuronal Artificial"
   ]
  },
  {
   "cell_type": "markdown",
   "id": "807ca5c6",
   "metadata": {},
   "source": [
    "Tal como se puede observar en la definición de la Red Neuronal Artificial que se muestra a continuación, el bloque básico que utiliza Keras es la **layer** o capa. La red Neuronal estará formada por diferentes capas que a su vez contendrán un conjunto de neuronas que se corresponden con el primer parámetro que se le proporciona."
   ]
  },
  {
   "cell_type": "code",
   "execution_count": 15,
   "id": "39f08450",
   "metadata": {},
   "outputs": [],
   "source": [
    "from tensorflow.keras import models\n",
    "from tensorflow.keras import layers"
   ]
  },
  {
   "cell_type": "markdown",
   "id": "70854fb1",
   "metadata": {},
   "source": [
    "Definimos una Red Neuronal Artificial formada por 3 capas:\n",
    "  * La primera capa estará formada por 300 neuronas\n",
    "  * La segunda capa estará formada por 100 neuronas\n",
    "  * La última capa estará formada por 10 neuronas\n",
    "    "
   ]
  },
  {
   "cell_type": "code",
   "execution_count": 18,
   "id": "060bdfc9",
   "metadata": {},
   "outputs": [],
   "source": [
    "network = models.Sequential()\n",
    "\n",
    "#.Dense quiere decir que está densamente conectada, todos los outputs serán los inputs de la siguiente capa\n",
    "network.add(layers.Dense(300, activation='relu', input_shape=(28*28,)))\n",
    "network.add(layers.Dense(100, activation='relu'))\n",
    "network.add(layers.Dense(10, activation='softmax')) # Al tratarse de un problema de clasificación multiclase, recibe 10 neuronas y la funcón de activacion"
   ]
  },
  {
   "cell_type": "markdown",
   "id": "34615c65",
   "metadata": {},
   "source": [
    "Una vez hemos definido la arquitectura de la Red Neuronal Profunda podemos visualizarla junto con el número total de parámetros utilizando el método summary()"
   ]
  },
  {
   "cell_type": "code",
   "execution_count": 19,
   "id": "2e8349b6",
   "metadata": {},
   "outputs": [
    {
     "name": "stdout",
     "output_type": "stream",
     "text": [
      "Model: \"sequential_1\"\n",
      "_________________________________________________________________\n",
      "Layer (type)                 Output Shape              Param #   \n",
      "=================================================================\n",
      "dense_3 (Dense)              (None, 300)               235500    \n",
      "_________________________________________________________________\n",
      "dense_4 (Dense)              (None, 100)               30100     \n",
      "_________________________________________________________________\n",
      "dense_5 (Dense)              (None, 10)                1010      \n",
      "=================================================================\n",
      "Total params: 266,610\n",
      "Trainable params: 266,610\n",
      "Non-trainable params: 0\n",
      "_________________________________________________________________\n"
     ]
    }
   ],
   "source": [
    "network.summary()"
   ]
  },
  {
   "cell_type": "markdown",
   "id": "9864a88e",
   "metadata": {},
   "source": [
    "### 2.2 Acceso a los elementos definidos en la RNA"
   ]
  },
  {
   "cell_type": "code",
   "execution_count": 20,
   "id": "80f2a51e",
   "metadata": {},
   "outputs": [
    {
     "data": {
      "text/plain": [
       "[<keras.layers.core.Dense at 0x2201f45a0d0>,\n",
       " <keras.layers.core.Dense at 0x22020a88250>,\n",
       " <keras.layers.core.Dense at 0x2201f5d2310>]"
      ]
     },
     "execution_count": 20,
     "metadata": {},
     "output_type": "execute_result"
    }
   ],
   "source": [
    "network.layers"
   ]
  },
  {
   "cell_type": "markdown",
   "id": "8865a4b0",
   "metadata": {},
   "source": [
    "En este caso vamos a acceder a los parámetros del modelo que componen las neuronas de la primera hidden layer"
   ]
  },
  {
   "cell_type": "code",
   "execution_count": 22,
   "id": "1dbc45a4",
   "metadata": {},
   "outputs": [],
   "source": [
    "hidden1 = network.layers[1]"
   ]
  },
  {
   "cell_type": "code",
   "execution_count": 23,
   "id": "5700ad5a",
   "metadata": {},
   "outputs": [],
   "source": [
    "weights, biases = hidden1.get_weights()"
   ]
  },
  {
   "cell_type": "markdown",
   "id": "aeb0a7e9",
   "metadata": {},
   "source": [
    "Como puede observarse en las siguientes celdas, Keras automáticamente inicializa el valor de los parámetros de manera aleatoria y los bias term con el valor 0 "
   ]
  },
  {
   "cell_type": "code",
   "execution_count": 24,
   "id": "94f12221",
   "metadata": {},
   "outputs": [
    {
     "data": {
      "text/plain": [
       "array([[ 0.09770898, -0.12081486, -0.02086047, ..., -0.00207085,\n",
       "        -0.08461903, -0.10887376],\n",
       "       [ 0.04159763, -0.00303516, -0.01502423, ...,  0.00622118,\n",
       "         0.1022405 ,  0.01381902],\n",
       "       [-0.10321121,  0.00336993,  0.01148234, ..., -0.05626994,\n",
       "        -0.07190801,  0.06766499],\n",
       "       ...,\n",
       "       [ 0.01588368,  0.10977317, -0.01394096, ...,  0.11376511,\n",
       "        -0.02941698,  0.01693299],\n",
       "       [ 0.03900515, -0.00177482,  0.06106838, ..., -0.04408561,\n",
       "        -0.08472912, -0.10556649],\n",
       "       [-0.05078004, -0.11456544,  0.08349424, ...,  0.10776991,\n",
       "         0.11201977, -0.04777312]], dtype=float32)"
      ]
     },
     "execution_count": 24,
     "metadata": {},
     "output_type": "execute_result"
    }
   ],
   "source": [
    "weights"
   ]
  },
  {
   "cell_type": "code",
   "execution_count": 25,
   "id": "a6f604d0",
   "metadata": {},
   "outputs": [
    {
     "data": {
      "text/plain": [
       "array([0., 0., 0., 0., 0., 0., 0., 0., 0., 0., 0., 0., 0., 0., 0., 0., 0.,\n",
       "       0., 0., 0., 0., 0., 0., 0., 0., 0., 0., 0., 0., 0., 0., 0., 0., 0.,\n",
       "       0., 0., 0., 0., 0., 0., 0., 0., 0., 0., 0., 0., 0., 0., 0., 0., 0.,\n",
       "       0., 0., 0., 0., 0., 0., 0., 0., 0., 0., 0., 0., 0., 0., 0., 0., 0.,\n",
       "       0., 0., 0., 0., 0., 0., 0., 0., 0., 0., 0., 0., 0., 0., 0., 0., 0.,\n",
       "       0., 0., 0., 0., 0., 0., 0., 0., 0., 0., 0., 0., 0., 0., 0.],\n",
       "      dtype=float32)"
      ]
     },
     "execution_count": 25,
     "metadata": {},
     "output_type": "execute_result"
    }
   ],
   "source": [
    "biases"
   ]
  },
  {
   "cell_type": "markdown",
   "id": "e6e719e7",
   "metadata": {},
   "source": [
    "## 3. Configuración de la Red Neuronal Artificial"
   ]
  },
  {
   "cell_type": "markdown",
   "id": "5c0c65c2",
   "metadata": {},
   "source": [
    "Para que la Red Neuronal Artificial funcione adecuadamente va a requerir tres componentes adicionales que se seleccionan durante el proceso de compilación:\n",
    "\n",
    "   1. **La función de error**. Se utiliza en el proceso de optimización de los parámetros del modelo, para medir el error producido al modificar el valor de los parámetros del modelo en una dirección determinada\n",
    "   2. **La función de optimización:** Se corresponde con la función encargada de actualizar el valor de los parámetros del modelo en una dirección\n",
    "   3. **Metricas para monitorizar el proceso de entrenamiento:** Es interesante utilizar utiliza un conjunto de metricas durante el entrenamiento de la Red Neuronal Artificial de manera que podamos saber en cada iteración si el valor de los parámetros del modelo es adecuado o se están produciendo problemas como overfitting"
   ]
  },
  {
   "cell_type": "code",
   "execution_count": 26,
   "id": "33cdc776",
   "metadata": {},
   "outputs": [],
   "source": [
    "network.compile(\n",
    "    loss='categorical_crossentropy',\n",
    "    optimizer='sgd',\n",
    "    metrics=['accuracy', 'Precision']\n",
    ")"
   ]
  },
  {
   "cell_type": "markdown",
   "id": "94ae7394",
   "metadata": {},
   "source": [
    "## 4. Preparación del conjunto de datos"
   ]
  },
  {
   "cell_type": "markdown",
   "id": "9c24a63c",
   "metadata": {},
   "source": [
    "Debido a la forma en la que hemos definido la arquitectura de nuestra Red Neuronal Artificial y los parámetros de compilación, vamos a requerir realizar algunas transformaciones sobre nuestro conjunto de datos"
   ]
  },
  {
   "cell_type": "markdown",
   "id": "e160ad30",
   "metadata": {},
   "source": [
    "### 4.1. Preparación de las características de entrada"
   ]
  },
  {
   "cell_type": "code",
   "execution_count": 27,
   "id": "7d7bebdf",
   "metadata": {},
   "outputs": [],
   "source": [
    "X_train_prep = X_train.reshape((60000, 28*28))\n",
    "X_train_prep = X_train_prep.astype('float32') / 255\n",
    "\n",
    "X_test_prep = X_test.reshape((5000, 28*28))\n",
    "X_test_prep = X_test_prep.astype('float32') / 255\n",
    "\n",
    "X_val_prep = X_val.reshape((5000, 28*28))\n",
    "X_val_prep = X_val_prep.astype('float32') / 255\n"
   ]
  },
  {
   "cell_type": "code",
   "execution_count": 30,
   "id": "f1af47d2",
   "metadata": {},
   "outputs": [
    {
     "name": "stdout",
     "output_type": "stream",
     "text": [
      "(28, 28)\n",
      "(60000, 28, 28)\n"
     ]
    }
   ],
   "source": [
    "print(X_train[0].shape)\n",
    "print(X_train.shape)"
   ]
  },
  {
   "cell_type": "code",
   "execution_count": 31,
   "id": "f879d23f",
   "metadata": {},
   "outputs": [
    {
     "name": "stdout",
     "output_type": "stream",
     "text": [
      "(784,)\n",
      "(60000, 784)\n"
     ]
    }
   ],
   "source": [
    "print(X_train_prep[0].shape)\n",
    "print(X_train_prep.shape)"
   ]
  },
  {
   "cell_type": "markdown",
   "id": "7c6b20c6",
   "metadata": {},
   "source": [
    "### 4.2 Preparación de las características de salida (etiquetas)"
   ]
  },
  {
   "cell_type": "code",
   "execution_count": 32,
   "id": "0a2b09f4",
   "metadata": {},
   "outputs": [],
   "source": [
    "from tensorflow.keras.utils import to_categorical\n",
    "\n",
    "y_train_prep = to_categorical(y_train)\n",
    "y_test_prep = to_categorical(y_test)\n",
    "y_val_prep = to_categorical(y_val)"
   ]
  },
  {
   "cell_type": "code",
   "execution_count": 33,
   "id": "47404fe0",
   "metadata": {},
   "outputs": [
    {
     "data": {
      "text/plain": [
       "array([5, 0, 4, ..., 5, 6, 8], dtype=uint8)"
      ]
     },
     "execution_count": 33,
     "metadata": {},
     "output_type": "execute_result"
    }
   ],
   "source": [
    "y_train"
   ]
  },
  {
   "cell_type": "code",
   "execution_count": 38,
   "id": "e7a80a66",
   "metadata": {},
   "outputs": [
    {
     "data": {
      "text/plain": [
       "array([[0., 0., 0., ..., 0., 0., 0.],\n",
       "       [1., 0., 0., ..., 0., 0., 0.],\n",
       "       [0., 0., 0., ..., 0., 0., 0.],\n",
       "       ...,\n",
       "       [0., 0., 0., ..., 0., 0., 0.],\n",
       "       [0., 0., 0., ..., 0., 0., 0.],\n",
       "       [0., 0., 0., ..., 0., 1., 0.]], dtype=float32)"
      ]
     },
     "execution_count": 38,
     "metadata": {},
     "output_type": "execute_result"
    }
   ],
   "source": [
    "y_train_prep"
   ]
  },
  {
   "cell_type": "code",
   "execution_count": 41,
   "id": "a886dbdf",
   "metadata": {},
   "outputs": [
    {
     "name": "stdout",
     "output_type": "stream",
     "text": [
      "(5000, 784)\n",
      "(5000, 10)\n"
     ]
    }
   ],
   "source": [
    "print(X_val_prep.shape)\n",
    "print(y_val_prep.shape)"
   ]
  },
  {
   "cell_type": "code",
   "execution_count": 42,
   "id": "d5216693",
   "metadata": {},
   "outputs": [
    {
     "name": "stdout",
     "output_type": "stream",
     "text": [
      "(60000, 784)\n",
      "(60000, 10)\n"
     ]
    }
   ],
   "source": [
    "print(X_train_prep.shape)\n",
    "print(y_train_prep.shape)"
   ]
  },
  {
   "cell_type": "code",
   "execution_count": 43,
   "id": "228bdb71",
   "metadata": {},
   "outputs": [
    {
     "name": "stdout",
     "output_type": "stream",
     "text": [
      "(5000, 784)\n",
      "(5000, 10)\n"
     ]
    }
   ],
   "source": [
    "print(X_test_prep.shape)\n",
    "print(y_test_prep.shape)"
   ]
  },
  {
   "cell_type": "markdown",
   "id": "9f2db85f",
   "metadata": {},
   "source": [
    "## 5. Entrenamiento de la Red Neuronal Artificial"
   ]
  },
  {
   "cell_type": "markdown",
   "id": "8e42d7bf",
   "metadata": {},
   "source": [
    "En este putno ya estamos listos para entrenar nuestra Red Neuronal Artificial invocando el método fit(). Una de las capacidades que nos proporciona Keras es la de integrar el proceso de validación en el propio proceso de entrenamiento, para ello, junto con el subconjunto de datos de entrenamiento, debemos proporcionarle en este método el subconjunto de validación."
   ]
  },
  {
   "cell_type": "code",
   "execution_count": 44,
   "id": "470ed8c1",
   "metadata": {},
   "outputs": [
    {
     "name": "stdout",
     "output_type": "stream",
     "text": [
      "Epoch 1/30\n",
      "1875/1875 [==============================] - 5s 2ms/step - loss: 0.5874 - accuracy: 0.8471 - precision: 0.9415 - val_loss: 0.3109 - val_accuracy: 0.9122 - val_precision: 0.9414\n",
      "Epoch 2/30\n",
      "1875/1875 [==============================] - 4s 2ms/step - loss: 0.2806 - accuracy: 0.9191 - precision: 0.9435 - val_loss: 0.2425 - val_accuracy: 0.9314 - val_precision: 0.9515\n",
      "Epoch 3/30\n",
      "1875/1875 [==============================] - 4s 2ms/step - loss: 0.2274 - accuracy: 0.9348 - precision: 0.9528 - val_loss: 0.2097 - val_accuracy: 0.9396 - val_precision: 0.9556\n",
      "Epoch 4/30\n",
      "1875/1875 [==============================] - 4s 2ms/step - loss: 0.1925 - accuracy: 0.9449 - precision: 0.9594 - val_loss: 0.1827 - val_accuracy: 0.9466 - val_precision: 0.9598\n",
      "Epoch 5/30\n",
      "1875/1875 [==============================] - 4s 2ms/step - loss: 0.1671 - accuracy: 0.9515 - precision: 0.9641 - val_loss: 0.1664 - val_accuracy: 0.9484 - val_precision: 0.9620\n",
      "Epoch 6/30\n",
      "1875/1875 [==============================] - 4s 2ms/step - loss: 0.1473 - accuracy: 0.9579 - precision: 0.9680 - val_loss: 0.1453 - val_accuracy: 0.9568 - val_precision: 0.9686\n",
      "Epoch 7/30\n",
      "1875/1875 [==============================] - 4s 2ms/step - loss: 0.1316 - accuracy: 0.9629 - precision: 0.9717 - val_loss: 0.1361 - val_accuracy: 0.9590 - val_precision: 0.9700\n",
      "Epoch 8/30\n",
      "1875/1875 [==============================] - 5s 2ms/step - loss: 0.1182 - accuracy: 0.9668 - precision: 0.9743 - val_loss: 0.1240 - val_accuracy: 0.9644 - val_precision: 0.9724\n",
      "Epoch 9/30\n",
      "1875/1875 [==============================] - 4s 2ms/step - loss: 0.1074 - accuracy: 0.9697 - precision: 0.9772 - val_loss: 0.1151 - val_accuracy: 0.9664 - val_precision: 0.9750\n",
      "Epoch 10/30\n",
      "1875/1875 [==============================] - 5s 2ms/step - loss: 0.0981 - accuracy: 0.9723 - precision: 0.9782 - val_loss: 0.1101 - val_accuracy: 0.9692 - val_precision: 0.9739\n",
      "Epoch 11/30\n",
      "1875/1875 [==============================] - 6s 3ms/step - loss: 0.0900 - accuracy: 0.9753 - precision: 0.9810 - val_loss: 0.1069 - val_accuracy: 0.9686 - val_precision: 0.9759\n",
      "Epoch 12/30\n",
      "1875/1875 [==============================] - 6s 3ms/step - loss: 0.0828 - accuracy: 0.9769 - precision: 0.9819 - val_loss: 0.1038 - val_accuracy: 0.9682 - val_precision: 0.9747oss: 0.0832 - accuracy: 0.9768 - pre\n",
      "Epoch 13/30\n",
      "1875/1875 [==============================] - 6s 3ms/step - loss: 0.0767 - accuracy: 0.9786 - precision: 0.9831 - val_loss: 0.0963 - val_accuracy: 0.9706 - val_precision: 0.9758\n",
      "Epoch 14/30\n",
      "1875/1875 [==============================] - 5s 3ms/step - loss: 0.0711 - accuracy: 0.9802 - precision: 0.9844 - val_loss: 0.0924 - val_accuracy: 0.9724 - val_precision: 0.9776\n",
      "Epoch 15/30\n",
      "1875/1875 [==============================] - 5s 2ms/step - loss: 0.0660 - accuracy: 0.9820 - precision: 0.9857 - val_loss: 0.0888 - val_accuracy: 0.9736 - val_precision: 0.9786\n",
      "Epoch 16/30\n",
      "1875/1875 [==============================] - 4s 2ms/step - loss: 0.0617 - accuracy: 0.9826 - precision: 0.9862 - val_loss: 0.0873 - val_accuracy: 0.9730 - val_precision: 0.9778\n",
      "Epoch 17/30\n",
      "1875/1875 [==============================] - 4s 2ms/step - loss: 0.0574 - accuracy: 0.9842 - precision: 0.9876 - val_loss: 0.0855 - val_accuracy: 0.9748 - val_precision: 0.9806\n",
      "Epoch 18/30\n",
      "1875/1875 [==============================] - 5s 2ms/step - loss: 0.0537 - accuracy: 0.9855 - precision: 0.9883 - val_loss: 0.0840 - val_accuracy: 0.9740 - val_precision: 0.9780\n",
      "Epoch 19/30\n",
      "1875/1875 [==============================] - 4s 2ms/step - loss: 0.0503 - accuracy: 0.9863 - precision: 0.9894 - val_loss: 0.0824 - val_accuracy: 0.9736 - val_precision: 0.9784\n",
      "Epoch 20/30\n",
      "1875/1875 [==============================] - 4s 2ms/step - loss: 0.0471 - accuracy: 0.9874 - precision: 0.9903 - val_loss: 0.0814 - val_accuracy: 0.9750 - val_precision: 0.9796\n",
      "Epoch 21/30\n",
      "1875/1875 [==============================] - 4s 2ms/step - loss: 0.0443 - accuracy: 0.9882 - precision: 0.9909 - val_loss: 0.0791 - val_accuracy: 0.9742 - val_precision: 0.9792\n",
      "Epoch 22/30\n",
      "1875/1875 [==============================] - 5s 2ms/step - loss: 0.0413 - accuracy: 0.9892 - precision: 0.9914 - val_loss: 0.0777 - val_accuracy: 0.9750 - val_precision: 0.9803\n",
      "Epoch 23/30\n",
      "1875/1875 [==============================] - ETA: 0s - loss: 0.0389 - accuracy: 0.9902 - precision: 0.9922 ETA: 0s - loss: 0.0388 - accuracy: 0.9903 - p - 4s 2ms/step - loss: 0.0390 - accuracy: 0.9902 - precision: 0.9921 - val_loss: 0.0780 - val_accuracy: 0.9762 - val_precision: 0.9798\n",
      "Epoch 24/30\n",
      "1875/1875 [==============================] - 4s 2ms/step - loss: 0.0365 - accuracy: 0.9908 - precision: 0.9926 - val_loss: 0.0770 - val_accuracy: 0.9770 - val_precision: 0.9795\n",
      "Epoch 25/30\n",
      "1875/1875 [==============================] - 5s 2ms/step - loss: 0.0346 - accuracy: 0.9914 - precision: 0.9934 - val_loss: 0.0752 - val_accuracy: 0.9776 - val_precision: 0.9809\n",
      "Epoch 26/30\n",
      "1875/1875 [==============================] - 4s 2ms/step - loss: 0.0325 - accuracy: 0.9925 - precision: 0.9940 - val_loss: 0.0738 - val_accuracy: 0.9772 - val_precision: 0.9809\n",
      "Epoch 27/30\n",
      "1875/1875 [==============================] - 4s 2ms/step - loss: 0.0307 - accuracy: 0.9929 - precision: 0.9944 - val_loss: 0.0731 - val_accuracy: 0.9772 - val_precision: 0.9807\n",
      "Epoch 28/30\n",
      "1875/1875 [==============================] - 4s 2ms/step - loss: 0.0289 - accuracy: 0.9933 - precision: 0.9946 - val_loss: 0.0732 - val_accuracy: 0.9776 - val_precision: 0.9803\n",
      "Epoch 29/30\n",
      "1875/1875 [==============================] - 5s 3ms/step - loss: 0.0274 - accuracy: 0.9938 - precision: 0.9950 - val_loss: 0.0716 - val_accuracy: 0.9792 - val_precision: 0.9823\n",
      "Epoch 30/30\n",
      "1875/1875 [==============================] - 5s 3ms/step - loss: 0.0257 - accuracy: 0.9945 - precision: 0.9954 - val_loss: 0.0719 - val_accuracy: 0.9770 - val_precision: 0.9809\n"
     ]
    }
   ],
   "source": [
    "history = network.fit(\n",
    "                        X_train_prep,\n",
    "                        y_train_prep,\n",
    "                        epochs=30,\n",
    "                        validation_data=(X_val_prep, y_val_prep)\n",
    ")"
   ]
  },
  {
   "cell_type": "markdown",
   "id": "ed557bf1",
   "metadata": {},
   "source": [
    "En la variable **history** se almacenan varios valores importantes:\n",
    "\n",
    "   * El valor de los parámetros del modelo después del entrenamiento\n",
    "   * La lista Epochs llevados a cabo\n",
    "   * Un diccionario con el error producido en cada epoch en el conjunto de datos de entrenamiento y validación"
   ]
  },
  {
   "cell_type": "code",
   "execution_count": 46,
   "id": "18ecb194",
   "metadata": {},
   "outputs": [
    {
     "data": {
      "image/png": "[encoded data removed]",
      "text/plain": [
       "<Figure size 720x504 with 1 Axes>"
      ]
     },
     "metadata": {
      "needs_background": "light"
     },
     "output_type": "display_data"
    }
   ],
   "source": [
    "import pandas as pd\n",
    "import matplotlib.pyplot as plt\n",
    "\n",
    "pd.DataFrame(history.history).plot(figsize=(10, 7))\n",
    "plt.grid(True)\n",
    "plt.gca().set_ylim(0, 1.2)\n",
    "plt.xlabel('epochs')\n",
    "plt.show()"
   ]
  },
  {
   "cell_type": "markdown",
   "id": "50e80937",
   "metadata": {},
   "source": [
    "Debido a que en la gráfica anterior se observa que el error en el conjunto de datos de validación sigue disminuyendo, podemos continuar entrenando el algoritmo invocando de nuevo el método fit(), Keras continuará el entrenamiento en el que lo dejo."
   ]
  },
  {
   "cell_type": "code",
   "execution_count": 47,
   "id": "b07b1e76",
   "metadata": {},
   "outputs": [
    {
     "name": "stdout",
     "output_type": "stream",
     "text": [
      "Epoch 1/10\n",
      "1875/1875 [==============================] - 7s 3ms/step - loss: 0.0242 - accuracy: 0.9949 - precision: 0.9959 - val_loss: 0.0730 - val_accuracy: 0.9774 - val_precision: 0.9801\n",
      "Epoch 2/10\n",
      "1875/1875 [==============================] - 6s 3ms/step - loss: 0.0231 - accuracy: 0.9950 - precision: 0.9960 - val_loss: 0.0737 - val_accuracy: 0.9780 - val_precision: 0.9807\n",
      "Epoch 3/10\n",
      "1875/1875 [==============================] - 5s 3ms/step - loss: 0.0217 - accuracy: 0.9954 - precision: 0.9965 - val_loss: 0.0741 - val_accuracy: 0.9774 - val_precision: 0.9795\n",
      "Epoch 4/10\n",
      "1875/1875 [==============================] - 5s 3ms/step - loss: 0.0203 - accuracy: 0.9958 - precision: 0.9969 - val_loss: 0.0731 - val_accuracy: 0.9782 - val_precision: 0.9813\n",
      "Epoch 5/10\n",
      "1875/1875 [==============================] - 5s 2ms/step - loss: 0.0193 - accuracy: 0.9963 - precision: 0.9972 - val_loss: 0.0721 - val_accuracy: 0.9776 - val_precision: 0.9807\n",
      "Epoch 6/10\n",
      "1875/1875 [==============================] - 5s 3ms/step - loss: 0.0182 - accuracy: 0.9965 - precision: 0.9974 - val_loss: 0.0724 - val_accuracy: 0.9782 - val_precision: 0.9803racy: 0.9965 - precisi\n",
      "Epoch 7/10\n",
      "1875/1875 [==============================] - 5s 3ms/step - loss: 0.0173 - accuracy: 0.9969 - precision: 0.9977 - val_loss: 0.0697 - val_accuracy: 0.9784 - val_precision: 0.9813\n",
      "Epoch 8/10\n",
      "1875/1875 [==============================] - 5s 3ms/step - loss: 0.0163 - accuracy: 0.9973 - precision: 0.9980 - val_loss: 0.0719 - val_accuracy: 0.9780 - val_precision: 0.9807\n",
      "Epoch 9/10\n",
      "1875/1875 [==============================] - 5s 3ms/step - loss: 0.0155 - accuracy: 0.9975 - precision: 0.9981 - val_loss: 0.0707 - val_accuracy: 0.9788 - val_precision: 0.9813\n",
      "Epoch 10/10\n",
      "1875/1875 [==============================] - 5s 3ms/step - loss: 0.0147 - accuracy: 0.9979 - precision: 0.9984 - val_loss: 0.0717 - val_accuracy: 0.9778 - val_precision: 0.9795\n"
     ]
    }
   ],
   "source": [
    "history = network.fit(\n",
    "                        X_train_prep,\n",
    "                        y_train_prep,\n",
    "                        epochs=10,\n",
    "                        validation_data=(X_val_prep, y_val_prep)\n",
    ")"
   ]
  },
  {
   "cell_type": "markdown",
   "id": "7dd080ea",
   "metadata": {},
   "source": [
    "## 6. Validación con el conjunto de datos de pruebas"
   ]
  },
  {
   "cell_type": "code",
   "execution_count": 49,
   "id": "00c02a93",
   "metadata": {},
   "outputs": [
    {
     "name": "stdout",
     "output_type": "stream",
     "text": [
      "157/157 [==============================] - 0s 2ms/step - loss: 0.0665 - accuracy: 0.9808 - precision: 0.9827\n"
     ]
    }
   ],
   "source": [
    "test_loss, test_acc, test_prec = network.evaluate(X_test_prep, y_test_prep)"
   ]
  },
  {
   "cell_type": "code",
   "execution_count": 50,
   "id": "d0448644",
   "metadata": {},
   "outputs": [
    {
     "name": "stdout",
     "output_type": "stream",
     "text": [
      "test_acc:  0.9807999730110168\n",
      "test_prec:  0.9827309250831604\n"
     ]
    }
   ],
   "source": [
    "print('test_acc: ', test_acc)\n",
    "print('test_prec: ', test_prec)"
   ]
  },
  {
   "cell_type": "markdown",
   "id": "3ee9ef9c",
   "metadata": {},
   "source": [
    "## 7. Predicción de nuevos ejemplos"
   ]
  },
  {
   "cell_type": "code",
   "execution_count": 51,
   "id": "94df5acd",
   "metadata": {},
   "outputs": [],
   "source": [
    "# Suponemos que X_new es un nuevo ejemplo que el algoritmo no ha visto nunca\n",
    "X_new = X_test[34]"
   ]
  },
  {
   "cell_type": "code",
   "execution_count": 52,
   "id": "647011e7",
   "metadata": {},
   "outputs": [
    {
     "data": {
      "image/png": "[encoded data removed]",
      "text/plain": [
       "<Figure size 432x288 with 1 Axes>"
      ]
     },
     "metadata": {
      "needs_background": "light"
     },
     "output_type": "display_data"
    }
   ],
   "source": [
    "# Representación grafica del nuevo ejemplo que queremos predecir \n",
    "plt.imshow(np.reshape(X_new, (28, 28)), cmap=plt.cm.gray)\n",
    "plt.show()"
   ]
  },
  {
   "cell_type": "code",
   "execution_count": 54,
   "id": "3ec71ec9",
   "metadata": {},
   "outputs": [],
   "source": [
    "# Preprocesamos la nueva imagen que queremos predecir\n",
    "X_new_prep = X_new.reshape((1, 28*28))\n",
    "X_new_prep = X_new_prep.astype('float32') / 255"
   ]
  },
  {
   "cell_type": "code",
   "execution_count": 55,
   "id": "4ad149ad",
   "metadata": {},
   "outputs": [],
   "source": [
    "# Realizamos la predicción\n",
    "y_proba = network.predict(X_new_prep)"
   ]
  },
  {
   "cell_type": "code",
   "execution_count": 57,
   "id": "3839e2e9",
   "metadata": {},
   "outputs": [
    {
     "data": {
      "text/plain": [
       "array([[0.  , 0.  , 0.  , 0.  , 0.03, 0.  , 0.  , 0.  , 0.  , 0.97]],\n",
       "      dtype=float32)"
      ]
     },
     "execution_count": 57,
     "metadata": {},
     "output_type": "execute_result"
    }
   ],
   "source": [
    "y_proba.round(2)"
   ]
  },
  {
   "cell_type": "code",
   "execution_count": 58,
   "id": "81ceba93",
   "metadata": {},
   "outputs": [
    {
     "data": {
      "text/plain": [
       "array([9], dtype=int64)"
      ]
     },
     "execution_count": 58,
     "metadata": {},
     "output_type": "execute_result"
    }
   ],
   "source": [
    "# Realizamos la predicción obteniendo una clase en lugar de una probabilidad\n",
    "np.argmax(network.predict(X_new_prep), axis=1)"
   ]
  },
  {
   "cell_type": "markdown",
   "id": "f20b9c1a",
   "metadata": {},
   "source": [
    "Es importante saber que el método tradicional predict_classes va a ser deprecado proximamente"
   ]
  },
  {
   "cell_type": "markdown",
   "id": "aceda8cb",
   "metadata": {},
   "source": [
    "## 8. Guardar el modelo en disco"
   ]
  },
  {
   "cell_type": "markdown",
   "id": "184d6e9a",
   "metadata": {},
   "source": [
    "Con Keras generalmente la arquitectura de la red neuronal, la entrenamos y después evaluamos. Existen diferentes alternativas a la hora exportar el modelo entrenado (https://keras.io/guides/serialization_and_saving/), en este caso se expone una de las más utilizadas.\n",
    "\n",
    "De la forma que se indica a continuación, vamos a exportar en un fichero los siguientes componentes de la red neuronal:\n",
    "    \n",
    "   * La arquitectura del modelo\n",
    "   * Los parámetros del modelo\n",
    "   * Los hiperparámetros del modelo\n",
    "   * Las métricas"
   ]
  },
  {
   "cell_type": "code",
   "execution_count": 59,
   "id": "9605c7d7",
   "metadata": {},
   "outputs": [
    {
     "name": "stdout",
     "output_type": "stream",
     "text": [
      "INFO:tensorflow:Assets written to: modelo_mnist\\assets\n"
     ]
    }
   ],
   "source": [
    "# Guardamos el modelo en disco\n",
    "network.save('modelo_mnist')"
   ]
  },
  {
   "cell_type": "markdown",
   "id": "f0bbef44",
   "metadata": {},
   "source": [
    "Una vez ejecutada la celda anterior, generará un fichero modelo_mnist que puede utilizarse para transportarlo a otro sistema y predecir con nuevos ejemplos. La forma en la que puedes importar este fichero para predecir nuevos ejemplos es la siguiente:"
   ]
  },
  {
   "cell_type": "code",
   "execution_count": 61,
   "id": "de79218c",
   "metadata": {},
   "outputs": [],
   "source": [
    "# Importamos las librerías necesarias\n",
    "from tensorflow.keras.models import load_model\n",
    "\n",
    "# Cargamos el modelo del disco \n",
    "mnist_model = load_model('modelo_mnist')\n",
    "\n",
    "#Realizamos una nueva predicción\n",
    "y_pred = np.argmax(mnist_model.predict(X_new_prep), axis=1)"
   ]
  },
  {
   "cell_type": "code",
   "execution_count": 62,
   "id": "1b00cd4d",
   "metadata": {},
   "outputs": [
    {
     "data": {
      "text/plain": [
       "array([9], dtype=int64)"
      ]
     },
     "execution_count": 62,
     "metadata": {},
     "output_type": "execute_result"
    }
   ],
   "source": [
    "y_pred"
   ]
  },
  {
   "cell_type": "code",
   "execution_count": null,
   "id": "47c9e894",
   "metadata": {},
   "outputs": [],
   "source": []
  },
  {
   "cell_type": "code",
   "execution_count": null,
   "id": "55312b9d",
   "metadata": {},
   "outputs": [],
   "source": []
  }
 ],
 "metadata": {
  "kernelspec": {
   "display_name": "Python 3 (ipykernel)",
   "language": "python",
   "name": "python3"
  },
  "language_info": {
   "codemirror_mode": {
    "name": "ipython",
    "version": 3
   },
   "file_extension": ".py",
   "mimetype": "text/x-python",
   "name": "python",
   "nbconvert_exporter": "python",
   "pygments_lexer": "ipython3",
   "version": "3.8.11"
  }
 },
 "nbformat": 4,
 "nbformat_minor": 5
}
