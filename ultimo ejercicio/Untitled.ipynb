{
 "cells": [
  {
   "cell_type": "markdown",
   "id": "44bcda2a",
   "metadata": {},
   "source": [
    "# Clasificación de Tweets de desastres naturales"
   ]
  },
  {
   "cell_type": "markdown",
   "id": "4cf362dc",
   "metadata": {},
   "source": [
    "## Enunciado\n",
    "\n",
    "En esta competición, se plantea la construcción de un modelo de aprendizaje automático que realice predicciones sobre qué Tweets tratan de desastres reales y cuáles no.\n",
    "\n",
    "https://www.kaggle.com/vstepanenko/disaster-tweets"
   ]
  },
  {
   "cell_type": "markdown",
   "id": "6bcbd6e1",
   "metadata": {},
   "source": [
    "## 0. Imports"
   ]
  },
  {
   "cell_type": "code",
   "execution_count": 1,
   "id": "89c5505d",
   "metadata": {},
   "outputs": [],
   "source": [
    "import matplotlib.pyplot as plt\n",
    "plt.style.use('ggplot')\n",
    "import numpy as np\n",
    "import os"
   ]
  },
  {
   "cell_type": "markdown",
   "id": "3faba882",
   "metadata": {},
   "source": [
    "## 1. Lectura del conjunto de datos"
   ]
  },
  {
   "cell_type": "code",
   "execution_count": 2,
   "id": "704f03c2",
   "metadata": {},
   "outputs": [
    {
     "data": {
      "text/html": [
       "<div>\n",
       "<style scoped>\n",
       "    .dataframe tbody tr th:only-of-type {\n",
       "        vertical-align: middle;\n",
       "    }\n",
       "\n",
       "    .dataframe tbody tr th {\n",
       "        vertical-align: top;\n",
       "    }\n",
       "\n",
       "    .dataframe thead th {\n",
       "        text-align: right;\n",
       "    }\n",
       "</style>\n",
       "<table border=\"1\" class=\"dataframe\">\n",
       "  <thead>\n",
       "    <tr style=\"text-align: right;\">\n",
       "      <th></th>\n",
       "      <th>id</th>\n",
       "      <th>keyword</th>\n",
       "      <th>location</th>\n",
       "      <th>text</th>\n",
       "      <th>target</th>\n",
       "    </tr>\n",
       "  </thead>\n",
       "  <tbody>\n",
       "    <tr>\n",
       "      <th>0</th>\n",
       "      <td>1</td>\n",
       "      <td>NaN</td>\n",
       "      <td>NaN</td>\n",
       "      <td>Our Deeds are the Reason of this #earthquake M...</td>\n",
       "      <td>1</td>\n",
       "    </tr>\n",
       "    <tr>\n",
       "      <th>1</th>\n",
       "      <td>4</td>\n",
       "      <td>NaN</td>\n",
       "      <td>NaN</td>\n",
       "      <td>Forest fire near La Ronge Sask. Canada</td>\n",
       "      <td>1</td>\n",
       "    </tr>\n",
       "    <tr>\n",
       "      <th>2</th>\n",
       "      <td>5</td>\n",
       "      <td>NaN</td>\n",
       "      <td>NaN</td>\n",
       "      <td>All residents asked to 'shelter in place' are ...</td>\n",
       "      <td>1</td>\n",
       "    </tr>\n",
       "    <tr>\n",
       "      <th>3</th>\n",
       "      <td>6</td>\n",
       "      <td>NaN</td>\n",
       "      <td>NaN</td>\n",
       "      <td>13,000 people receive #wildfires evacuation or...</td>\n",
       "      <td>1</td>\n",
       "    </tr>\n",
       "    <tr>\n",
       "      <th>4</th>\n",
       "      <td>7</td>\n",
       "      <td>NaN</td>\n",
       "      <td>NaN</td>\n",
       "      <td>Just got sent this photo from Ruby #Alaska as ...</td>\n",
       "      <td>1</td>\n",
       "    </tr>\n",
       "    <tr>\n",
       "      <th>...</th>\n",
       "      <td>...</td>\n",
       "      <td>...</td>\n",
       "      <td>...</td>\n",
       "      <td>...</td>\n",
       "      <td>...</td>\n",
       "    </tr>\n",
       "    <tr>\n",
       "      <th>7608</th>\n",
       "      <td>10869</td>\n",
       "      <td>NaN</td>\n",
       "      <td>NaN</td>\n",
       "      <td>Two giant cranes holding a bridge collapse int...</td>\n",
       "      <td>1</td>\n",
       "    </tr>\n",
       "    <tr>\n",
       "      <th>7609</th>\n",
       "      <td>10870</td>\n",
       "      <td>NaN</td>\n",
       "      <td>NaN</td>\n",
       "      <td>@aria_ahrary @TheTawniest The out of control w...</td>\n",
       "      <td>1</td>\n",
       "    </tr>\n",
       "    <tr>\n",
       "      <th>7610</th>\n",
       "      <td>10871</td>\n",
       "      <td>NaN</td>\n",
       "      <td>NaN</td>\n",
       "      <td>M1.94 [01:04 UTC]?5km S of Volcano Hawaii. htt...</td>\n",
       "      <td>1</td>\n",
       "    </tr>\n",
       "    <tr>\n",
       "      <th>7611</th>\n",
       "      <td>10872</td>\n",
       "      <td>NaN</td>\n",
       "      <td>NaN</td>\n",
       "      <td>Police investigating after an e-bike collided ...</td>\n",
       "      <td>1</td>\n",
       "    </tr>\n",
       "    <tr>\n",
       "      <th>7612</th>\n",
       "      <td>10873</td>\n",
       "      <td>NaN</td>\n",
       "      <td>NaN</td>\n",
       "      <td>The Latest: More Homes Razed by Northern Calif...</td>\n",
       "      <td>1</td>\n",
       "    </tr>\n",
       "  </tbody>\n",
       "</table>\n",
       "<p>7613 rows × 5 columns</p>\n",
       "</div>"
      ],
      "text/plain": [
       "         id keyword location  \\\n",
       "0         1     NaN      NaN   \n",
       "1         4     NaN      NaN   \n",
       "2         5     NaN      NaN   \n",
       "3         6     NaN      NaN   \n",
       "4         7     NaN      NaN   \n",
       "...     ...     ...      ...   \n",
       "7608  10869     NaN      NaN   \n",
       "7609  10870     NaN      NaN   \n",
       "7610  10871     NaN      NaN   \n",
       "7611  10872     NaN      NaN   \n",
       "7612  10873     NaN      NaN   \n",
       "\n",
       "                                                   text  target  \n",
       "0     Our Deeds are the Reason of this #earthquake M...       1  \n",
       "1                Forest fire near La Ronge Sask. Canada       1  \n",
       "2     All residents asked to 'shelter in place' are ...       1  \n",
       "3     13,000 people receive #wildfires evacuation or...       1  \n",
       "4     Just got sent this photo from Ruby #Alaska as ...       1  \n",
       "...                                                 ...     ...  \n",
       "7608  Two giant cranes holding a bridge collapse int...       1  \n",
       "7609  @aria_ahrary @TheTawniest The out of control w...       1  \n",
       "7610  M1.94 [01:04 UTC]?5km S of Volcano Hawaii. htt...       1  \n",
       "7611  Police investigating after an e-bike collided ...       1  \n",
       "7612  The Latest: More Homes Razed by Northern Calif...       1  \n",
       "\n",
       "[7613 rows x 5 columns]"
      ]
     },
     "execution_count": 2,
     "metadata": {},
     "output_type": "execute_result"
    }
   ],
   "source": [
    "import pandas as pd\n",
    "\n",
    "X_train = pd.read_csv('archive/train.csv')\n",
    "X_test = pd.read_csv('archive/test.csv')\n",
    "\n",
    "X_train"
   ]
  },
  {
   "cell_type": "code",
   "execution_count": 3,
   "id": "a1fb1879",
   "metadata": {},
   "outputs": [
    {
     "data": {
      "text/html": [
       "<div>\n",
       "<style scoped>\n",
       "    .dataframe tbody tr th:only-of-type {\n",
       "        vertical-align: middle;\n",
       "    }\n",
       "\n",
       "    .dataframe tbody tr th {\n",
       "        vertical-align: top;\n",
       "    }\n",
       "\n",
       "    .dataframe thead th {\n",
       "        text-align: right;\n",
       "    }\n",
       "</style>\n",
       "<table border=\"1\" class=\"dataframe\">\n",
       "  <thead>\n",
       "    <tr style=\"text-align: right;\">\n",
       "      <th></th>\n",
       "      <th>id</th>\n",
       "      <th>keyword</th>\n",
       "      <th>location</th>\n",
       "      <th>text</th>\n",
       "    </tr>\n",
       "  </thead>\n",
       "  <tbody>\n",
       "    <tr>\n",
       "      <th>0</th>\n",
       "      <td>0</td>\n",
       "      <td>NaN</td>\n",
       "      <td>NaN</td>\n",
       "      <td>Just happened a terrible car crash</td>\n",
       "    </tr>\n",
       "    <tr>\n",
       "      <th>1</th>\n",
       "      <td>2</td>\n",
       "      <td>NaN</td>\n",
       "      <td>NaN</td>\n",
       "      <td>Heard about #earthquake is different cities, s...</td>\n",
       "    </tr>\n",
       "    <tr>\n",
       "      <th>2</th>\n",
       "      <td>3</td>\n",
       "      <td>NaN</td>\n",
       "      <td>NaN</td>\n",
       "      <td>there is a forest fire at spot pond, geese are...</td>\n",
       "    </tr>\n",
       "    <tr>\n",
       "      <th>3</th>\n",
       "      <td>9</td>\n",
       "      <td>NaN</td>\n",
       "      <td>NaN</td>\n",
       "      <td>Apocalypse lighting. #Spokane #wildfires</td>\n",
       "    </tr>\n",
       "    <tr>\n",
       "      <th>4</th>\n",
       "      <td>11</td>\n",
       "      <td>NaN</td>\n",
       "      <td>NaN</td>\n",
       "      <td>Typhoon Soudelor kills 28 in China and Taiwan</td>\n",
       "    </tr>\n",
       "    <tr>\n",
       "      <th>...</th>\n",
       "      <td>...</td>\n",
       "      <td>...</td>\n",
       "      <td>...</td>\n",
       "      <td>...</td>\n",
       "    </tr>\n",
       "    <tr>\n",
       "      <th>3258</th>\n",
       "      <td>10861</td>\n",
       "      <td>NaN</td>\n",
       "      <td>NaN</td>\n",
       "      <td>EARTHQUAKE SAFETY LOS ANGELES ÛÒ SAFETY FASTE...</td>\n",
       "    </tr>\n",
       "    <tr>\n",
       "      <th>3259</th>\n",
       "      <td>10865</td>\n",
       "      <td>NaN</td>\n",
       "      <td>NaN</td>\n",
       "      <td>Storm in RI worse than last hurricane. My city...</td>\n",
       "    </tr>\n",
       "    <tr>\n",
       "      <th>3260</th>\n",
       "      <td>10868</td>\n",
       "      <td>NaN</td>\n",
       "      <td>NaN</td>\n",
       "      <td>Green Line derailment in Chicago http://t.co/U...</td>\n",
       "    </tr>\n",
       "    <tr>\n",
       "      <th>3261</th>\n",
       "      <td>10874</td>\n",
       "      <td>NaN</td>\n",
       "      <td>NaN</td>\n",
       "      <td>MEG issues Hazardous Weather Outlook (HWO) htt...</td>\n",
       "    </tr>\n",
       "    <tr>\n",
       "      <th>3262</th>\n",
       "      <td>10875</td>\n",
       "      <td>NaN</td>\n",
       "      <td>NaN</td>\n",
       "      <td>#CityofCalgary has activated its Municipal Eme...</td>\n",
       "    </tr>\n",
       "  </tbody>\n",
       "</table>\n",
       "<p>3263 rows × 4 columns</p>\n",
       "</div>"
      ],
      "text/plain": [
       "         id keyword location  \\\n",
       "0         0     NaN      NaN   \n",
       "1         2     NaN      NaN   \n",
       "2         3     NaN      NaN   \n",
       "3         9     NaN      NaN   \n",
       "4        11     NaN      NaN   \n",
       "...     ...     ...      ...   \n",
       "3258  10861     NaN      NaN   \n",
       "3259  10865     NaN      NaN   \n",
       "3260  10868     NaN      NaN   \n",
       "3261  10874     NaN      NaN   \n",
       "3262  10875     NaN      NaN   \n",
       "\n",
       "                                                   text  \n",
       "0                    Just happened a terrible car crash  \n",
       "1     Heard about #earthquake is different cities, s...  \n",
       "2     there is a forest fire at spot pond, geese are...  \n",
       "3              Apocalypse lighting. #Spokane #wildfires  \n",
       "4         Typhoon Soudelor kills 28 in China and Taiwan  \n",
       "...                                                 ...  \n",
       "3258  EARTHQUAKE SAFETY LOS ANGELES ÛÒ SAFETY FASTE...  \n",
       "3259  Storm in RI worse than last hurricane. My city...  \n",
       "3260  Green Line derailment in Chicago http://t.co/U...  \n",
       "3261  MEG issues Hazardous Weather Outlook (HWO) htt...  \n",
       "3262  #CityofCalgary has activated its Municipal Eme...  \n",
       "\n",
       "[3263 rows x 4 columns]"
      ]
     },
     "execution_count": 3,
     "metadata": {},
     "output_type": "execute_result"
    }
   ],
   "source": [
    "X_test"
   ]
  },
  {
   "cell_type": "markdown",
   "id": "a15c60a8",
   "metadata": {},
   "source": [
    "## 2. Visualización del conjunto de datos"
   ]
  },
  {
   "cell_type": "code",
   "execution_count": 4,
   "id": "9399b467",
   "metadata": {},
   "outputs": [
    {
     "name": "stdout",
     "output_type": "stream",
     "text": [
      "Tamaño del conjunto de datos de entrenamiento:  7613\n",
      "Tamaño del conjunto de datos de pruebas:  3263\n"
     ]
    }
   ],
   "source": [
    "print('Tamaño del conjunto de datos de entrenamiento: ', len(X_train))\n",
    "print('Tamaño del conjunto de datos de pruebas: ', len(X_test))"
   ]
  },
  {
   "cell_type": "code",
   "execution_count": 5,
   "id": "ed696ae4",
   "metadata": {},
   "outputs": [
    {
     "data": {
      "text/plain": [
       "0    4342\n",
       "1    3271\n",
       "Name: target, dtype: int64"
      ]
     },
     "execution_count": 5,
     "metadata": {},
     "output_type": "execute_result"
    }
   ],
   "source": [
    "# Tweets de cada tipo que se encuentran en el conjunto de datos de entrenamiento\n",
    "X_train['target'].value_counts()"
   ]
  },
  {
   "cell_type": "code",
   "execution_count": 6,
   "id": "0c87bc65",
   "metadata": {},
   "outputs": [
    {
     "data": {
      "image/png": "[encoded data removed]",
      "text/plain": [
       "<Figure size 432x288 with 1 Axes>"
      ]
     },
     "metadata": {},
     "output_type": "display_data"
    }
   ],
   "source": [
    "X_train['target'].hist()\n",
    "plt.ylabel('# tweets')\n",
    "plt.show()"
   ]
  },
  {
   "cell_type": "markdown",
   "id": "c141bd50",
   "metadata": {},
   "source": [
    "Siempre conveniente realizar un análisis exploratorio de la distribución de los datos para determinar la mejor manera de resolver el problema"
   ]
  },
  {
   "cell_type": "markdown",
   "id": "c3a335cc",
   "metadata": {},
   "source": [
    "### Número de palabras por Tweet"
   ]
  },
  {
   "cell_type": "code",
   "execution_count": 7,
   "id": "b87f92b6",
   "metadata": {},
   "outputs": [
    {
     "data": {
      "image/png": "[encoded data removed]",
      "text/plain": [
       "<Figure size 720x360 with 2 Axes>"
      ]
     },
     "metadata": {},
     "output_type": "display_data"
    }
   ],
   "source": [
    "fig, (ax1, ax2) = plt.subplots(1, 2, figsize=(10,5))\n",
    "\n",
    "# Calculamos el número de palabras\n",
    "tweet_len_0 = X_train[X_train['target'] == 0]['text'].str.split().map(lambda x: len(x))\n",
    "tweet_len_1 = X_train[X_train['target'] == 1]['text'].str.split().map(lambda x: len(x))\n",
    "\n",
    "ax1.hist(tweet_len_0, color='green')\n",
    "ax1.set_title('Non disaster tweets')\n",
    "\n",
    "ax2.hist(tweet_len_1, color='red')\n",
    "ax2.set_title('Disaster tweets')\n",
    "\n",
    "fig.suptitle('Número de palabras por tweet')\n",
    "plt.show()"
   ]
  },
  {
   "cell_type": "markdown",
   "id": "88c87a26",
   "metadata": {},
   "source": [
    "### Número de palabras únicas por Tweet"
   ]
  },
  {
   "cell_type": "code",
   "execution_count": 8,
   "id": "41522a45",
   "metadata": {},
   "outputs": [
    {
     "data": {
      "image/png": "[encoded data removed]",
      "text/plain": [
       "<Figure size 720x360 with 2 Axes>"
      ]
     },
     "metadata": {},
     "output_type": "display_data"
    }
   ],
   "source": [
    "fig, (ax1, ax2) = plt.subplots(1, 2, figsize=(10,5))\n",
    "\n",
    "# Calculamos el número de palabras\n",
    "tweet_len_0 = X_train[X_train['target'] == 0]['text'].str.split().map(lambda x: len(set(x)))\n",
    "tweet_len_1 = X_train[X_train['target'] == 1]['text'].str.split().map(lambda x: len(set(x)))\n",
    "\n",
    "ax1.hist(tweet_len_0, color='green')\n",
    "ax1.set_title('Non disaster tweets')\n",
    "\n",
    "ax2.hist(tweet_len_1, color='red')\n",
    "ax2.set_title('Disaster tweets')\n",
    "\n",
    "fig.suptitle('Número de palabras por tweet')\n",
    "plt.show()"
   ]
  },
  {
   "cell_type": "markdown",
   "id": "23db2c63",
   "metadata": {},
   "source": [
    "### Longitud media de las palabras por Tweet"
   ]
  },
  {
   "cell_type": "code",
   "execution_count": 9,
   "id": "b6e18875",
   "metadata": {},
   "outputs": [
    {
     "data": {
      "image/png": "[encoded data removed]",
      "text/plain": [
       "<Figure size 720x360 with 2 Axes>"
      ]
     },
     "metadata": {},
     "output_type": "display_data"
    }
   ],
   "source": [
    "fig, (ax1, ax2) = plt.subplots(1, 2, figsize=(10,5))\n",
    "\n",
    "# Calculamos el número de palabras\n",
    "tweet_len_0 = X_train[X_train['target'] == 0]['text'].str.split().map(lambda x: np.mean([len(i) for i in x]))\n",
    "tweet_len_1 = X_train[X_train['target'] == 1]['text'].str.split().map(lambda x: np.mean([len(i) for i in x]))\n",
    "\n",
    "ax1.hist(tweet_len_0, color='green')\n",
    "ax1.set_title('Non disaster tweets')\n",
    "\n",
    "ax2.hist(tweet_len_1, color='red')\n",
    "ax2.set_title('Disaster tweets')\n",
    "\n",
    "fig.suptitle('Longitud media de las palabras por Tweet')\n",
    "plt.show()"
   ]
  },
  {
   "cell_type": "markdown",
   "id": "e0afb30e",
   "metadata": {},
   "source": [
    "### Número de caracteres por Tweet"
   ]
  },
  {
   "cell_type": "code",
   "execution_count": 10,
   "id": "4df2142e",
   "metadata": {},
   "outputs": [
    {
     "data": {
      "image/png": "[encoded data removed]",
      "text/plain": [
       "<Figure size 720x360 with 2 Axes>"
      ]
     },
     "metadata": {},
     "output_type": "display_data"
    }
   ],
   "source": [
    "fig, (ax1, ax2) = plt.subplots(1, 2, figsize=(10,5))\n",
    "\n",
    "# Calculamos el número de palabras\n",
    "tweet_len_0 = X_train[X_train['target'] == 0]['text'].str.len()\n",
    "tweet_len_1 = X_train[X_train['target'] == 1]['text'].str.len()\n",
    "\n",
    "ax1.hist(tweet_len_0, color='green')\n",
    "ax1.set_title('Non disaster tweets')\n",
    "\n",
    "ax2.hist(tweet_len_1, color='red')\n",
    "ax2.set_title('Disaster tweets')\n",
    "\n",
    "fig.suptitle('Número de caracteres por Tweet')\n",
    "plt.show()"
   ]
  },
  {
   "cell_type": "markdown",
   "id": "de694f3f",
   "metadata": {},
   "source": [
    "Podríamos seguir calculando características de entrada como las siguientes:\n",
    "* Número de palabras de fin por Tweet\n",
    "* Número de urls por Tweet\n",
    "* Media de caracteres por Tweet\n",
    "* Número de caracteres por Tweet\n",
    "* Número de signos de puntuación por Tweet\n",
    "* Número de hashtags por Tweet\n",
    "* Número de @ por tweet"
   ]
  },
  {
   "cell_type": "markdown",
   "id": "871e380b",
   "metadata": {},
   "source": [
    "### Stopwords más utilizadas"
   ]
  },
  {
   "cell_type": "markdown",
   "id": "2c8809f3",
   "metadata": {},
   "source": [
    "Estas palabras no tienen un significado por si solas, sino que modifican o acompañan a otras, este grupo suele estar conformado por artículos, pronombres, preposiciones, adverbios e incluso algunos verbos.\n",
    "\n",
    "En el procesamiento de datos en lenguaje natural son filtradas antes o después del proceso en si, no se consideran por su nulo significado, en el caso de los buscadores como Google no lo consideran al momento de posicionar, pero si al momento de mostrar los resultados de búsqueda."
   ]
  },
  {
   "cell_type": "code",
   "execution_count": 11,
   "id": "d1e369ad",
   "metadata": {},
   "outputs": [
    {
     "name": "stderr",
     "output_type": "stream",
     "text": [
      "[nltk_data] Downloading package stopwords to\n",
      "[nltk_data]     C:\\Users\\luigi\\AppData\\Roaming\\nltk_data...\n",
      "[nltk_data]   Package stopwords is already up-to-date!\n"
     ]
    },
    {
     "data": {
      "text/plain": [
       "True"
      ]
     },
     "execution_count": 11,
     "metadata": {},
     "output_type": "execute_result"
    }
   ],
   "source": [
    "from nltk.corpus import stopwords\n",
    "import nltk\n",
    "nltk.download('stopwords')"
   ]
  },
  {
   "cell_type": "code",
   "execution_count": 12,
   "id": "dad87c23",
   "metadata": {},
   "outputs": [
    {
     "data": {
      "text/plain": [
       "['i',\n",
       " 'me',\n",
       " 'my',\n",
       " 'myself',\n",
       " 'we',\n",
       " 'our',\n",
       " 'ours',\n",
       " 'ourselves',\n",
       " 'you',\n",
       " \"you're\",\n",
       " \"you've\",\n",
       " \"you'll\",\n",
       " \"you'd\",\n",
       " 'your',\n",
       " 'yours',\n",
       " 'yourself',\n",
       " 'yourselves',\n",
       " 'he',\n",
       " 'him',\n",
       " 'his',\n",
       " 'himself',\n",
       " 'she',\n",
       " \"she's\",\n",
       " 'her',\n",
       " 'hers',\n",
       " 'herself',\n",
       " 'it',\n",
       " \"it's\",\n",
       " 'its',\n",
       " 'itself',\n",
       " 'they',\n",
       " 'them',\n",
       " 'their',\n",
       " 'theirs',\n",
       " 'themselves',\n",
       " 'what',\n",
       " 'which',\n",
       " 'who',\n",
       " 'whom',\n",
       " 'this',\n",
       " 'that',\n",
       " \"that'll\",\n",
       " 'these',\n",
       " 'those',\n",
       " 'am',\n",
       " 'is',\n",
       " 'are',\n",
       " 'was',\n",
       " 'were',\n",
       " 'be',\n",
       " 'been',\n",
       " 'being',\n",
       " 'have',\n",
       " 'has',\n",
       " 'had',\n",
       " 'having',\n",
       " 'do',\n",
       " 'does',\n",
       " 'did',\n",
       " 'doing',\n",
       " 'a',\n",
       " 'an',\n",
       " 'the',\n",
       " 'and',\n",
       " 'but',\n",
       " 'if',\n",
       " 'or',\n",
       " 'because',\n",
       " 'as',\n",
       " 'until',\n",
       " 'while',\n",
       " 'of',\n",
       " 'at',\n",
       " 'by',\n",
       " 'for',\n",
       " 'with',\n",
       " 'about',\n",
       " 'against',\n",
       " 'between',\n",
       " 'into',\n",
       " 'through',\n",
       " 'during',\n",
       " 'before',\n",
       " 'after',\n",
       " 'above',\n",
       " 'below',\n",
       " 'to',\n",
       " 'from',\n",
       " 'up',\n",
       " 'down',\n",
       " 'in',\n",
       " 'out',\n",
       " 'on',\n",
       " 'off',\n",
       " 'over',\n",
       " 'under',\n",
       " 'again',\n",
       " 'further',\n",
       " 'then',\n",
       " 'once',\n",
       " 'here',\n",
       " 'there',\n",
       " 'when',\n",
       " 'where',\n",
       " 'why',\n",
       " 'how',\n",
       " 'all',\n",
       " 'any',\n",
       " 'both',\n",
       " 'each',\n",
       " 'few',\n",
       " 'more',\n",
       " 'most',\n",
       " 'other',\n",
       " 'some',\n",
       " 'such',\n",
       " 'no',\n",
       " 'nor',\n",
       " 'not',\n",
       " 'only',\n",
       " 'own',\n",
       " 'same',\n",
       " 'so',\n",
       " 'than',\n",
       " 'too',\n",
       " 'very',\n",
       " 's',\n",
       " 't',\n",
       " 'can',\n",
       " 'will',\n",
       " 'just',\n",
       " 'don',\n",
       " \"don't\",\n",
       " 'should',\n",
       " \"should've\",\n",
       " 'now',\n",
       " 'd',\n",
       " 'll',\n",
       " 'm',\n",
       " 'o',\n",
       " 're',\n",
       " 've',\n",
       " 'y',\n",
       " 'ain',\n",
       " 'aren',\n",
       " \"aren't\",\n",
       " 'couldn',\n",
       " \"couldn't\",\n",
       " 'didn',\n",
       " \"didn't\",\n",
       " 'doesn',\n",
       " \"doesn't\",\n",
       " 'hadn',\n",
       " \"hadn't\",\n",
       " 'hasn',\n",
       " \"hasn't\",\n",
       " 'haven',\n",
       " \"haven't\",\n",
       " 'isn',\n",
       " \"isn't\",\n",
       " 'ma',\n",
       " 'mightn',\n",
       " \"mightn't\",\n",
       " 'mustn',\n",
       " \"mustn't\",\n",
       " 'needn',\n",
       " \"needn't\",\n",
       " 'shan',\n",
       " \"shan't\",\n",
       " 'shouldn',\n",
       " \"shouldn't\",\n",
       " 'wasn',\n",
       " \"wasn't\",\n",
       " 'weren',\n",
       " \"weren't\",\n",
       " 'won',\n",
       " \"won't\",\n",
       " 'wouldn',\n",
       " \"wouldn't\"]"
      ]
     },
     "execution_count": 12,
     "metadata": {},
     "output_type": "execute_result"
    }
   ],
   "source": [
    "stopwords.words('english')"
   ]
  },
  {
   "cell_type": "code",
   "execution_count": 13,
   "id": "e25d9301",
   "metadata": {},
   "outputs": [],
   "source": [
    "def plot_stopwords(label):\n",
    "    tweet_stopwords = {}\n",
    "    for words in X_train[X_train['target'] == label]['text'].str.split():\n",
    "        sw = list(set(words).intersection(stopwords.words('english')))\n",
    "        for w in sw:\n",
    "            if w in tweet_stopwords.keys():\n",
    "                tweet_stopwords [w] += 1\n",
    "            else:\n",
    "                tweet_stopwords [w] = 1\n",
    "    top = sorted(tweet_stopwords.items(), key=lambda x:x[1], reverse=True)[:10]\n",
    "    plt.bar(*zip(*top))\n",
    "    plt.show()"
   ]
  },
  {
   "cell_type": "code",
   "execution_count": 14,
   "id": "8cefd047",
   "metadata": {},
   "outputs": [
    {
     "data": {
      "image/png": "[encoded data removed]",
      "text/plain": [
       "<Figure size 432x288 with 1 Axes>"
      ]
     },
     "metadata": {},
     "output_type": "display_data"
    }
   ],
   "source": [
    "plot_stopwords(0)"
   ]
  },
  {
   "cell_type": "code",
   "execution_count": 15,
   "id": "bfdbeff0",
   "metadata": {},
   "outputs": [
    {
     "data": {
      "image/png": "[encoded data removed]",
      "text/plain": [
       "<Figure size 432x288 with 1 Axes>"
      ]
     },
     "metadata": {},
     "output_type": "display_data"
    }
   ],
   "source": [
    "plot_stopwords(1)"
   ]
  },
  {
   "cell_type": "markdown",
   "id": "5a7f312e",
   "metadata": {},
   "source": [
    "### Analisis signos de puntuación"
   ]
  },
  {
   "cell_type": "code",
   "execution_count": 16,
   "id": "12cc86ed",
   "metadata": {},
   "outputs": [],
   "source": [
    "import string\n",
    "\n",
    "def plot_punctuation(label):\n",
    "    tweets_stopwords = {}\n",
    "    for words in X_train[X_train['target'] == label]['text'].str.split():\n",
    "        sw = list(set(words).intersection(string.punctuation))\n",
    "        for w in sw:\n",
    "            if w in tweets_stopwords.keys():\n",
    "                tweets_stopwords[w] += 1\n",
    "            else:\n",
    "                tweets_stopwords[w] = 1\n",
    "                \n",
    "    top = sorted(tweets_stopwords.items(), key=lambda x:x[1],reverse=True)[:20]\n",
    "    plt.figure(figsize=(10, 5))\n",
    "    plt.bar(*zip(*top))\n",
    "    plt.show()"
   ]
  },
  {
   "cell_type": "code",
   "execution_count": 17,
   "id": "5b756045",
   "metadata": {},
   "outputs": [
    {
     "data": {
      "image/png": "[encoded data removed]",
      "text/plain": [
       "<Figure size 720x360 with 1 Axes>"
      ]
     },
     "metadata": {},
     "output_type": "display_data"
    }
   ],
   "source": [
    "plot_punctuation(0)"
   ]
  },
  {
   "cell_type": "code",
   "execution_count": 18,
   "id": "7987dacb",
   "metadata": {},
   "outputs": [
    {
     "data": {
      "image/png": "[encoded data removed]",
      "text/plain": [
       "<Figure size 720x360 with 1 Axes>"
      ]
     },
     "metadata": {},
     "output_type": "display_data"
    }
   ],
   "source": [
    "plot_punctuation(1)"
   ]
  },
  {
   "cell_type": "markdown",
   "id": "f38ce2f9",
   "metadata": {},
   "source": [
    "### Análisis de Ngramas"
   ]
  },
  {
   "cell_type": "code",
   "execution_count": 19,
   "id": "97bc6b9f",
   "metadata": {},
   "outputs": [],
   "source": [
    "from sklearn.feature_extraction.text import CountVectorizer\n",
    "\n",
    "cv = CountVectorizer(ngram_range=(2, 2))\n",
    "sum_words = cv.fit_transform(X_train['text']).sum(axis=0)\n",
    "\n",
    "# Calculamos \n",
    "words_freq = [(word, sum_words[0, idx]) for word, idx in cv.vocabulary_.items()]\n",
    "words_freq = sorted(words_freq, key = lambda x: x[1], reverse=True)[:20]"
   ]
  },
  {
   "cell_type": "code",
   "execution_count": 20,
   "id": "633d94fb",
   "metadata": {},
   "outputs": [
    {
     "data": {
      "image/png": "[encoded data removed]",
      "text/plain": [
       "<Figure size 1080x504 with 1 Axes>"
      ]
     },
     "metadata": {},
     "output_type": "display_data"
    }
   ],
   "source": [
    "plt.figure(figsize=(15, 7))\n",
    "plt.barh(*zip(*words_freq))\n",
    "plt.show()"
   ]
  },
  {
   "cell_type": "markdown",
   "id": "84ceed95",
   "metadata": {},
   "source": [
    "## 3. Limpieza de datos"
   ]
  },
  {
   "cell_type": "code",
   "execution_count": 21,
   "id": "b043274d",
   "metadata": {},
   "outputs": [],
   "source": [
    "import re"
   ]
  },
  {
   "cell_type": "code",
   "execution_count": 22,
   "id": "1f0f4279",
   "metadata": {},
   "outputs": [],
   "source": [
    "def remove_url(text):\n",
    "    url = re.compile(r'http?://\\S+|www\\.\\S+')\n",
    "    return url.sub(r'', text)"
   ]
  },
  {
   "cell_type": "code",
   "execution_count": 23,
   "id": "47c08f2e",
   "metadata": {},
   "outputs": [
    {
     "data": {
      "text/plain": [
       "'esto es una prueba: '"
      ]
     },
     "execution_count": 23,
     "metadata": {},
     "output_type": "execute_result"
    }
   ],
   "source": [
    "remove_url('esto es una prueba: http://localhost:8888/notebooks/curso_deep_learning/ultimo%20ejercicio/Untitled.ipynb')"
   ]
  },
  {
   "cell_type": "code",
   "execution_count": 24,
   "id": "a46d6538",
   "metadata": {},
   "outputs": [],
   "source": [
    "from html.parser import HTMLParser\n",
    "\n",
    "class HTMLStripper(HTMLParser):\n",
    "    def __init__(self):\n",
    "        self.reset()\n",
    "        self.strict = False\n",
    "        self.convert_charrefs = True\n",
    "        self.fed = []\n",
    "        \n",
    "    def handle_data(self, d):\n",
    "        self.fed.append(d)\n",
    "        \n",
    "    def get_data(self):\n",
    "        return ''.join(self.fed)\n",
    "\n",
    "def remove_html(text):\n",
    "    s = HTMLStripper()\n",
    "    s.feed(text)\n",
    "    return s.get_data()"
   ]
  },
  {
   "cell_type": "code",
   "execution_count": 25,
   "id": "4113a01e",
   "metadata": {},
   "outputs": [
    {
     "data": {
      "text/plain": [
       "'Phrack World News'"
      ]
     },
     "execution_count": 25,
     "metadata": {},
     "output_type": "execute_result"
    }
   ],
   "source": [
    "remove_html('<tr><td align=\"left\"><a href=\"../../issues/51/16.html#article\">Phrack World News</a></td>')"
   ]
  },
  {
   "cell_type": "code",
   "execution_count": 26,
   "id": "175ae5ca",
   "metadata": {},
   "outputs": [],
   "source": [
    "def remove_emoji(text):\n",
    "    emoji_pattern = re.compile(\"[\"\n",
    "                           u\"\\U0001F600-\\U0001F64F\"  # emoticons\n",
    "                           u\"\\U0001F300-\\U0001F5FF\"  # symbols & pictographs\n",
    "                           u\"\\U0001F680-\\U0001F6FF\"  # transport & map symbols\n",
    "                           u\"\\U0001F1E0-\\U0001F1FF\"  # flags (iOS)\n",
    "                           u\"\\U00002702-\\U000027B0\"\n",
    "                           u\"\\U000024C2-\\U0001F251\"\n",
    "                           \"]+\", flags=re.UNICODE)\n",
    "    return emoji_pattern.sub(r'', text)"
   ]
  },
  {
   "cell_type": "code",
   "execution_count": 27,
   "id": "f5d7109f",
   "metadata": {},
   "outputs": [
    {
     "data": {
      "text/plain": [
       "'Omg another Earthquake '"
      ]
     },
     "execution_count": 27,
     "metadata": {},
     "output_type": "execute_result"
    }
   ],
   "source": [
    "remove_emoji(\"Omg another Earthquake 😔😔\")"
   ]
  },
  {
   "cell_type": "code",
   "execution_count": 28,
   "id": "1d2844a8",
   "metadata": {},
   "outputs": [],
   "source": [
    "def remove_punctuation(text):\n",
    "    return text.translate(str.maketrans('', '', string.punctuation))"
   ]
  },
  {
   "cell_type": "code",
   "execution_count": 29,
   "id": "ebbb6bcb",
   "metadata": {},
   "outputs": [
    {
     "data": {
      "text/plain": [
       "'hola que tal'"
      ]
     },
     "execution_count": 29,
     "metadata": {},
     "output_type": "execute_result"
    }
   ],
   "source": [
    "remove_punctuation(\"hola #que tal\")"
   ]
  },
  {
   "cell_type": "code",
   "execution_count": 30,
   "id": "49631466",
   "metadata": {},
   "outputs": [],
   "source": [
    "# Aplicamos nuestras funciones de limpieza del conjunto de datos\n",
    "X_train_prep = X_train.copy()\n",
    "\n",
    "X_train_prep['text'] = X_train['text'].apply(remove_url)\n",
    "X_train_prep['text'] = X_train['text'].apply(remove_html)\n",
    "X_train_prep['text'] = X_train['text'].apply(remove_emoji)\n",
    "X_train_prep['text'] = X_train['text'].apply(remove_punctuation)"
   ]
  },
  {
   "cell_type": "code",
   "execution_count": 31,
   "id": "3fae9c64",
   "metadata": {},
   "outputs": [],
   "source": [
    "# Aplicamos nuestras funciones de limpieza del conjunto de datos\n",
    "X_test_prep = X_test.copy()\n",
    "\n",
    "X_test_prep['text'] = X_test['text'].apply(remove_url)\n",
    "X_test_prep['text'] = X_test['text'].apply(remove_html)\n",
    "X_test_prep['text'] = X_test['text'].apply(remove_emoji)\n",
    "X_test_prep['text'] = X_test['text'].apply(remove_punctuation)"
   ]
  },
  {
   "cell_type": "code",
   "execution_count": 32,
   "id": "19733ccb",
   "metadata": {},
   "outputs": [
    {
     "data": {
      "text/html": [
       "<div>\n",
       "<style scoped>\n",
       "    .dataframe tbody tr th:only-of-type {\n",
       "        vertical-align: middle;\n",
       "    }\n",
       "\n",
       "    .dataframe tbody tr th {\n",
       "        vertical-align: top;\n",
       "    }\n",
       "\n",
       "    .dataframe thead th {\n",
       "        text-align: right;\n",
       "    }\n",
       "</style>\n",
       "<table border=\"1\" class=\"dataframe\">\n",
       "  <thead>\n",
       "    <tr style=\"text-align: right;\">\n",
       "      <th></th>\n",
       "      <th>id</th>\n",
       "      <th>keyword</th>\n",
       "      <th>location</th>\n",
       "      <th>text</th>\n",
       "    </tr>\n",
       "  </thead>\n",
       "  <tbody>\n",
       "    <tr>\n",
       "      <th>0</th>\n",
       "      <td>0</td>\n",
       "      <td>NaN</td>\n",
       "      <td>NaN</td>\n",
       "      <td>Just happened a terrible car crash</td>\n",
       "    </tr>\n",
       "    <tr>\n",
       "      <th>1</th>\n",
       "      <td>2</td>\n",
       "      <td>NaN</td>\n",
       "      <td>NaN</td>\n",
       "      <td>Heard about earthquake is different cities sta...</td>\n",
       "    </tr>\n",
       "    <tr>\n",
       "      <th>2</th>\n",
       "      <td>3</td>\n",
       "      <td>NaN</td>\n",
       "      <td>NaN</td>\n",
       "      <td>there is a forest fire at spot pond geese are ...</td>\n",
       "    </tr>\n",
       "    <tr>\n",
       "      <th>3</th>\n",
       "      <td>9</td>\n",
       "      <td>NaN</td>\n",
       "      <td>NaN</td>\n",
       "      <td>Apocalypse lighting Spokane wildfires</td>\n",
       "    </tr>\n",
       "    <tr>\n",
       "      <th>4</th>\n",
       "      <td>11</td>\n",
       "      <td>NaN</td>\n",
       "      <td>NaN</td>\n",
       "      <td>Typhoon Soudelor kills 28 in China and Taiwan</td>\n",
       "    </tr>\n",
       "    <tr>\n",
       "      <th>...</th>\n",
       "      <td>...</td>\n",
       "      <td>...</td>\n",
       "      <td>...</td>\n",
       "      <td>...</td>\n",
       "    </tr>\n",
       "    <tr>\n",
       "      <th>3258</th>\n",
       "      <td>10861</td>\n",
       "      <td>NaN</td>\n",
       "      <td>NaN</td>\n",
       "      <td>EARTHQUAKE SAFETY LOS ANGELES ÛÒ SAFETY FASTE...</td>\n",
       "    </tr>\n",
       "    <tr>\n",
       "      <th>3259</th>\n",
       "      <td>10865</td>\n",
       "      <td>NaN</td>\n",
       "      <td>NaN</td>\n",
       "      <td>Storm in RI worse than last hurricane My citya...</td>\n",
       "    </tr>\n",
       "    <tr>\n",
       "      <th>3260</th>\n",
       "      <td>10868</td>\n",
       "      <td>NaN</td>\n",
       "      <td>NaN</td>\n",
       "      <td>Green Line derailment in Chicago httptcoUtbXLc...</td>\n",
       "    </tr>\n",
       "    <tr>\n",
       "      <th>3261</th>\n",
       "      <td>10874</td>\n",
       "      <td>NaN</td>\n",
       "      <td>NaN</td>\n",
       "      <td>MEG issues Hazardous Weather Outlook HWO httpt...</td>\n",
       "    </tr>\n",
       "    <tr>\n",
       "      <th>3262</th>\n",
       "      <td>10875</td>\n",
       "      <td>NaN</td>\n",
       "      <td>NaN</td>\n",
       "      <td>CityofCalgary has activated its Municipal Emer...</td>\n",
       "    </tr>\n",
       "  </tbody>\n",
       "</table>\n",
       "<p>3263 rows × 4 columns</p>\n",
       "</div>"
      ],
      "text/plain": [
       "         id keyword location  \\\n",
       "0         0     NaN      NaN   \n",
       "1         2     NaN      NaN   \n",
       "2         3     NaN      NaN   \n",
       "3         9     NaN      NaN   \n",
       "4        11     NaN      NaN   \n",
       "...     ...     ...      ...   \n",
       "3258  10861     NaN      NaN   \n",
       "3259  10865     NaN      NaN   \n",
       "3260  10868     NaN      NaN   \n",
       "3261  10874     NaN      NaN   \n",
       "3262  10875     NaN      NaN   \n",
       "\n",
       "                                                   text  \n",
       "0                    Just happened a terrible car crash  \n",
       "1     Heard about earthquake is different cities sta...  \n",
       "2     there is a forest fire at spot pond geese are ...  \n",
       "3                 Apocalypse lighting Spokane wildfires  \n",
       "4         Typhoon Soudelor kills 28 in China and Taiwan  \n",
       "...                                                 ...  \n",
       "3258  EARTHQUAKE SAFETY LOS ANGELES ÛÒ SAFETY FASTE...  \n",
       "3259  Storm in RI worse than last hurricane My citya...  \n",
       "3260  Green Line derailment in Chicago httptcoUtbXLc...  \n",
       "3261  MEG issues Hazardous Weather Outlook HWO httpt...  \n",
       "3262  CityofCalgary has activated its Municipal Emer...  \n",
       "\n",
       "[3263 rows x 4 columns]"
      ]
     },
     "execution_count": 32,
     "metadata": {},
     "output_type": "execute_result"
    }
   ],
   "source": [
    "X_test_prep"
   ]
  },
  {
   "cell_type": "code",
   "execution_count": 33,
   "id": "1debf324",
   "metadata": {},
   "outputs": [],
   "source": [
    "from sklearn.feature_extraction.text import CountVectorizer\n",
    "\n",
    "cv = CountVectorizer(ngram_range=(2, 2))\n",
    "sum_words = cv.fit_transform(X_train_prep['text']).sum(axis=0)\n",
    "\n",
    "# Calculamos \n",
    "words_freq = [(word, sum_words[0, idx]) for word, idx in cv.vocabulary_.items()]\n",
    "words_freq = sorted(words_freq, key = lambda x: x[1], reverse=True)[:20]"
   ]
  },
  {
   "cell_type": "code",
   "execution_count": 34,
   "id": "39ab2b7f",
   "metadata": {},
   "outputs": [
    {
     "data": {
      "image/png": "[encoded data removed]",
      "text/plain": [
       "<Figure size 1080x504 with 1 Axes>"
      ]
     },
     "metadata": {},
     "output_type": "display_data"
    }
   ],
   "source": [
    "plt.figure(figsize=(15, 7))\n",
    "plt.barh(*zip(*words_freq))\n",
    "plt.show()"
   ]
  },
  {
   "cell_type": "markdown",
   "id": "2cda700a",
   "metadata": {},
   "source": [
    "## 4. Vectorización del conjunto de datos"
   ]
  },
  {
   "cell_type": "code",
   "execution_count": 35,
   "id": "f8c48fc3",
   "metadata": {},
   "outputs": [],
   "source": [
    "Y_train = X_train_prep['target']"
   ]
  },
  {
   "cell_type": "code",
   "execution_count": 36,
   "id": "8113e169",
   "metadata": {},
   "outputs": [
    {
     "data": {
      "text/plain": [
       "(7613,)"
      ]
     },
     "execution_count": 36,
     "metadata": {},
     "output_type": "execute_result"
    }
   ],
   "source": [
    "Y_train.shape"
   ]
  },
  {
   "cell_type": "code",
   "execution_count": 37,
   "id": "fb9093e6",
   "metadata": {},
   "outputs": [],
   "source": [
    "from sklearn.feature_extraction.text import TfidfVectorizer\n",
    "\n",
    "vectorizer = TfidfVectorizer()\n",
    "\n",
    "X_train = vectorizer.fit_transform(X_train_prep['text'])"
   ]
  },
  {
   "cell_type": "code",
   "execution_count": 38,
   "id": "2b9a3b96",
   "metadata": {},
   "outputs": [],
   "source": [
    "X_train = X_train.toarray()"
   ]
  },
  {
   "cell_type": "code",
   "execution_count": 39,
   "id": "a7b5c6c0",
   "metadata": {},
   "outputs": [
    {
     "data": {
      "text/plain": [
       "array([[0., 0., 0., ..., 0., 0., 0.],\n",
       "       [0., 0., 0., ..., 0., 0., 0.],\n",
       "       [0., 0., 0., ..., 0., 0., 0.],\n",
       "       ...,\n",
       "       [0., 0., 0., ..., 0., 0., 0.],\n",
       "       [0., 0., 0., ..., 0., 0., 0.],\n",
       "       [0., 0., 0., ..., 0., 0., 0.]])"
      ]
     },
     "execution_count": 39,
     "metadata": {},
     "output_type": "execute_result"
    }
   ],
   "source": [
    "X_train"
   ]
  },
  {
   "cell_type": "code",
   "execution_count": 40,
   "id": "87744385",
   "metadata": {},
   "outputs": [],
   "source": [
    "X_test = vectorizer.transform(X_test_prep['text'])\n",
    "X_test = X_test.toarray()"
   ]
  },
  {
   "cell_type": "code",
   "execution_count": 41,
   "id": "0168a17e",
   "metadata": {},
   "outputs": [
    {
     "data": {
      "text/plain": [
       "(7613, 22394)"
      ]
     },
     "execution_count": 41,
     "metadata": {},
     "output_type": "execute_result"
    }
   ],
   "source": [
    "X_train.shape"
   ]
  },
  {
   "cell_type": "code",
   "execution_count": 42,
   "id": "27f44eb9",
   "metadata": {},
   "outputs": [
    {
     "data": {
      "text/plain": [
       "(7613,)"
      ]
     },
     "execution_count": 42,
     "metadata": {},
     "output_type": "execute_result"
    }
   ],
   "source": [
    "Y_train.shape"
   ]
  },
  {
   "cell_type": "markdown",
   "id": "0318d1d3",
   "metadata": {},
   "source": [
    "## 5. División del conjunto de datos"
   ]
  },
  {
   "cell_type": "code",
   "execution_count": 43,
   "id": "59e95a40",
   "metadata": {},
   "outputs": [],
   "source": [
    "from sklearn.model_selection import train_test_split\n",
    "\n",
    "X_train, X_val, Y_train, Y_val = train_test_split(X_train, Y_train, test_size=0.15)"
   ]
  },
  {
   "cell_type": "code",
   "execution_count": 44,
   "id": "fb96bfe5",
   "metadata": {},
   "outputs": [
    {
     "name": "stdout",
     "output_type": "stream",
     "text": [
      "Longitud subcojunto de entrenamiento:  6471\n",
      "Longitud subconjunto de validación:  1142\n",
      "Longitud subconjutno de pruebas:  3263\n"
     ]
    }
   ],
   "source": [
    "print(\"Longitud subcojunto de entrenamiento: \", len(X_train))\n",
    "print(\"Longitud subconjunto de validación: \", len(X_val))\n",
    "print(\"Longitud subconjutno de pruebas: \", len(X_test))"
   ]
  },
  {
   "cell_type": "markdown",
   "id": "ff404bf2",
   "metadata": {},
   "source": [
    "## 6. Construcción del modelo"
   ]
  },
  {
   "cell_type": "code",
   "execution_count": 49,
   "id": "c674c99c",
   "metadata": {},
   "outputs": [],
   "source": [
    "from tensorflow.keras import models\n",
    "from tensorflow.keras import layers\n",
    "\n",
    "model = models.Sequential()\n",
    "\n",
    "model.add(layers.Dense(16, activation='relu', input_shape=(X_train.shape[1],)))\n",
    "model.add(layers.Dropout(0.4))\n",
    "model.add(layers.Dense(16, activation='relu'))\n",
    "model.add(layers.Dropout(0.4))\n",
    "model.add(layers.Dense(1, activation='sigmoid'))"
   ]
  },
  {
   "cell_type": "code",
   "execution_count": 50,
   "id": "7d8f49f3",
   "metadata": {},
   "outputs": [],
   "source": [
    "model.compile(\n",
    "    optimizer='adam',\n",
    "    loss='binary_crossentropy',\n",
    "    metrics=['accuracy', 'Precision']\n",
    ")"
   ]
  },
  {
   "cell_type": "code",
   "execution_count": 51,
   "id": "3d6a3270",
   "metadata": {},
   "outputs": [
    {
     "name": "stdout",
     "output_type": "stream",
     "text": [
      "Epoch 1/20\n",
      "7/7 [==============================] - 2s 176ms/step - loss: 0.6920 - accuracy: 0.5509 - precision: 0.4474 - val_loss: 0.6901 - val_accuracy: 0.5648 - val_precision: 1.0000\n",
      "Epoch 2/20\n",
      "7/7 [==============================] - 1s 111ms/step - loss: 0.6871 - accuracy: 0.5885 - precision: 0.9355 - val_loss: 0.6852 - val_accuracy: 0.5797 - val_precision: 1.0000\n",
      "Epoch 3/20\n",
      "7/7 [==============================] - 1s 96ms/step - loss: 0.6796 - accuracy: 0.6183 - precision: 0.9520 - val_loss: 0.6782 - val_accuracy: 0.6208 - val_precision: 1.0000\n",
      "Epoch 4/20\n",
      "7/7 [==============================] - 1s 101ms/step - loss: 0.6700 - accuracy: 0.6636 - precision: 0.9514 - val_loss: 0.6694 - val_accuracy: 0.6629 - val_precision: 0.9915\n",
      "Epoch 5/20\n",
      "7/7 [==============================] - 1s 101ms/step - loss: 0.6579 - accuracy: 0.7055 - precision: 0.9538 - val_loss: 0.6589 - val_accuracy: 0.7110 - val_precision: 0.9722\n",
      "Epoch 6/20\n",
      "7/7 [==============================] - 1s 93ms/step - loss: 0.6429 - accuracy: 0.7459 - precision: 0.9406 - val_loss: 0.6472 - val_accuracy: 0.7356 - val_precision: 0.9420\n",
      "Epoch 7/20\n",
      "7/7 [==============================] - 1s 95ms/step - loss: 0.6257 - accuracy: 0.7748 - precision: 0.9451 - val_loss: 0.6343 - val_accuracy: 0.7452 - val_precision: 0.9231\n",
      "Epoch 8/20\n",
      "7/7 [==============================] - 1s 90ms/step - loss: 0.6036 - accuracy: 0.7977 - precision: 0.9393 - val_loss: 0.6199 - val_accuracy: 0.7566 - val_precision: 0.9081\n",
      "Epoch 9/20\n",
      "7/7 [==============================] - 1s 123ms/step - loss: 0.5828 - accuracy: 0.8190 - precision: 0.9372 - val_loss: 0.6044 - val_accuracy: 0.7715 - val_precision: 0.9051\n",
      "Epoch 10/20\n",
      "7/7 [==============================] - 1s 126ms/step - loss: 0.5569 - accuracy: 0.8496 - precision: 0.9518 - val_loss: 0.5878 - val_accuracy: 0.7802 - val_precision: 0.8927\n",
      "Epoch 11/20\n",
      "7/7 [==============================] - 1s 111ms/step - loss: 0.5275 - accuracy: 0.8555 - precision: 0.9443 - val_loss: 0.5708 - val_accuracy: 0.7881 - val_precision: 0.8886\n",
      "Epoch 12/20\n",
      "7/7 [==============================] - 1s 94ms/step - loss: 0.5015 - accuracy: 0.8771 - precision: 0.9545 - val_loss: 0.5544 - val_accuracy: 0.7986 - val_precision: 0.8835\n",
      "Epoch 13/20\n",
      "7/7 [==============================] - 1s 94ms/step - loss: 0.4720 - accuracy: 0.8858 - precision: 0.9520 - val_loss: 0.5385 - val_accuracy: 0.7995 - val_precision: 0.8692\n",
      "Epoch 14/20\n",
      "7/7 [==============================] - 1s 91ms/step - loss: 0.4456 - accuracy: 0.8924 - precision: 0.9533 - val_loss: 0.5240 - val_accuracy: 0.8074 - val_precision: 0.8608\n",
      "Epoch 15/20\n",
      "7/7 [==============================] - 1s 99ms/step - loss: 0.4181 - accuracy: 0.8992 - precision: 0.9402 - val_loss: 0.5110 - val_accuracy: 0.8074 - val_precision: 0.8483\n",
      "Epoch 16/20\n",
      "7/7 [==============================] - 1s 95ms/step - loss: 0.3918 - accuracy: 0.9093 - precision: 0.9527 - val_loss: 0.4990 - val_accuracy: 0.8065 - val_precision: 0.8462\n",
      "Epoch 17/20\n",
      "7/7 [==============================] - 1s 91ms/step - loss: 0.3668 - accuracy: 0.9108 - precision: 0.9456 - val_loss: 0.4889 - val_accuracy: 0.8039 - val_precision: 0.8350\n",
      "Epoch 18/20\n",
      "7/7 [==============================] - 1s 94ms/step - loss: 0.3383 - accuracy: 0.9243 - precision: 0.9590 - val_loss: 0.4809 - val_accuracy: 0.8074 - val_precision: 0.8318\n",
      "Epoch 19/20\n",
      "7/7 [==============================] - 1s 98ms/step - loss: 0.3194 - accuracy: 0.9234 - precision: 0.9545 - val_loss: 0.4741 - val_accuracy: 0.8047 - val_precision: 0.8213\n",
      "Epoch 20/20\n",
      "7/7 [==============================] - 1s 85ms/step - loss: 0.2946 - accuracy: 0.9352 - precision: 0.9562 - val_loss: 0.4688 - val_accuracy: 0.8047 - val_precision: 0.8169\n"
     ]
    }
   ],
   "source": [
    "history = model.fit(\n",
    "    X_train,\n",
    "    Y_train,\n",
    "    epochs=20,\n",
    "    batch_size=1024,\n",
    "    validation_data=(X_val, Y_val)\n",
    ")"
   ]
  },
  {
   "cell_type": "code",
   "execution_count": 52,
   "id": "a7e18956",
   "metadata": {},
   "outputs": [
    {
     "data": {
      "image/png": "[encoded data removed]",
      "text/plain": [
       "<Figure size 720x504 with 1 Axes>"
      ]
     },
     "metadata": {},
     "output_type": "display_data"
    }
   ],
   "source": [
    "import pandas as pd\n",
    "import matplotlib.pyplot as plt\n",
    "\n",
    "pd.DataFrame(history.history)[['loss', 'val_loss']].plot(figsize=(10, 7))\n",
    "plt.grid(True)\n",
    "plt.gca().set_ylim(0, 1.2)\n",
    "plt.xlabel(\"epochs\")\n",
    "plt.show()"
   ]
  },
  {
   "cell_type": "markdown",
   "id": "ec24283a",
   "metadata": {},
   "source": [
    "## 7. Evaluación del modelo"
   ]
  },
  {
   "cell_type": "code",
   "execution_count": 53,
   "id": "9d372aa5",
   "metadata": {},
   "outputs": [
    {
     "data": {
      "text/plain": [
       "array([[1.],\n",
       "       [0.],\n",
       "       [1.],\n",
       "       ...,\n",
       "       [1.],\n",
       "       [1.],\n",
       "       [1.]], dtype=float32)"
      ]
     },
     "execution_count": 53,
     "metadata": {},
     "output_type": "execute_result"
    }
   ],
   "source": [
    "Y_pred = model.predict(X_test).round(0)\n",
    "Y_pred"
   ]
  },
  {
   "cell_type": "code",
   "execution_count": 55,
   "id": "98fe9dce",
   "metadata": {},
   "outputs": [
    {
     "name": "stdout",
     "output_type": "stream",
     "text": [
      "Just happened a terrible car crash - [1.]\n",
      "Heard about earthquake is different cities stay safe everyone - [0.]\n",
      "there is a forest fire at spot pond geese are fleeing across the street I cannot save them all - [1.]\n",
      "Apocalypse lighting Spokane wildfires - [1.]\n",
      "Typhoon Soudelor kills 28 in China and Taiwan - [1.]\n",
      "Were shakingIts an earthquake - [1.]\n",
      "Theyd probably still show more life than Arsenal did yesterday eh EH - [0.]\n",
      "Hey How are you - [0.]\n",
      "What a nice hat - [0.]\n",
      "Fuck off - [0.]\n",
      "No I dont like cold - [0.]\n",
      "NOOOOOOOOO Dont do that - [0.]\n",
      "No dont tell me that - [0.]\n",
      "What if - [0.]\n",
      "Awesome - [0.]\n",
      "Birmingham Wholesale Market is ablaze BBC News  Fire breaks out at Birminghams Wholesale Market httptcoirWqCEZWEU - [1.]\n",
      "sunkxssedharry will you wear shorts for race ablaze  - [0.]\n",
      "PreviouslyOnDoyinTv Toke MakinwaÛªs marriage crisis sets Nigerian Twitter ablaze httptcoCMghxBa2XI - [1.]\n",
      "Check these out httptcorOI2NSmEJJ httptco3Tj8ZjiN21 httptcoYDUiXEfIpE httptcoLxTjc87KLS nsfw - [0.]\n",
      "PSA IÛªm splitting my personalities\n",
      "\n",
      " techies follow ablazeco\n",
      " Burners follow ablaze - [0.]\n",
      "beware world ablaze sierra leone amp guap - [0.]\n",
      "Burning Man Ablaze by Turban Diva httptcohodWosAmWS via Etsy - [1.]\n",
      "Not a diss song People will take 1 thing and run with it Smh its an eye opener though He is about 2 set the game ablaze CyhiThePrynce - [0.]\n",
      "Rape victim dies as she sets herself ablaze A 16yearold girl died of burn injuries as she set herself ablazeÛ httptcoUK8hNrbOob - [1.]\n",
      "SETTING MYSELF ABLAZE httptco6vMe7P5XhC - [0.]\n",
      "CTVToronto the bins in front of the field by my house wer set ablaze the other day flames went rite up the hydro pole wonder if it was him - [1.]\n",
      "nowplaying Alfons  Ablaze 2015 on Puls Radio pulsradio httptcoaA5BJgWfDv - [0.]\n",
      "Burning Rahm Lets hope City Hall builds a giant wooden mayoral effigy 100 feet tall amp sets it ablaze httptcokFo2mksn6Y JohnKass - [0.]\n",
      "PhilippaEilhart DhuBlath hurt but her eyes ablaze with insulted anger - [0.]\n",
      "Accident cleared in PaTurnpike on PATP EB between PA18 and Cranberry slow back to traffic httptcoSL0Oqn0Vyr - [1.]\n"
     ]
    }
   ],
   "source": [
    "for i in range(30):\n",
    "    print(\"{} - {}\".format(X_test_prep['text'][i], Y_pred[i]))"
   ]
  },
  {
   "cell_type": "code",
   "execution_count": null,
   "id": "fc0438d6",
   "metadata": {},
   "outputs": [],
   "source": []
  }
 ],
 "metadata": {
  "kernelspec": {
   "display_name": "Python 3 (ipykernel)",
   "language": "python",
   "name": "python3"
  },
  "language_info": {
   "codemirror_mode": {
    "name": "ipython",
    "version": 3
   },
   "file_extension": ".py",
   "mimetype": "text/x-python",
   "name": "python",
   "nbconvert_exporter": "python",
   "pygments_lexer": "ipython3",
   "version": "3.8.11"
  }
 },
 "nbformat": 4,
 "nbformat_minor": 5
}
