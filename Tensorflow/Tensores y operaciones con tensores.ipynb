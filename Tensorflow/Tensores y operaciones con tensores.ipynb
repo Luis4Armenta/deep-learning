{
 "cells": [
  {
   "cell_type": "markdown",
   "id": "80aa1651",
   "metadata": {},
   "source": [
    "# Tensores y operaciones con tensores"
   ]
  },
  {
   "cell_type": "markdown",
   "id": "f1b299c8",
   "metadata": {},
   "source": [
    "## Tensores"
   ]
  },
  {
   "cell_type": "markdown",
   "id": "0220369e",
   "metadata": {},
   "source": [
    "El **tensor** es el elemento fundamental de TensorFlow. En términos prácticos, un tensor es similar a una _ndarray_ de NumPy, es decir, un array multidimensional. La diferencia principal es que los tensores admiten una gama más amplia de valores, por ejemplo, un único escalar(un valor simple como el número 15)"
   ]
  },
  {
   "cell_type": "code",
   "execution_count": 2,
   "id": "9139543d",
   "metadata": {},
   "outputs": [
    {
     "data": {
      "text/plain": [
       "'2.6.0'"
      ]
     },
     "execution_count": 2,
     "metadata": {},
     "output_type": "execute_result"
    }
   ],
   "source": [
    "# Importamos tensorflow\n",
    "import tensorflow as tf\n",
    "\n",
    "tf.__version__"
   ]
  },
  {
   "cell_type": "markdown",
   "id": "5fbccfff",
   "metadata": {},
   "source": [
    "Podemos comenzar definiendo un tensor con Tensorflow mediante el método __tf.constant()__"
   ]
  },
  {
   "cell_type": "code",
   "execution_count": 3,
   "id": "f65066ec",
   "metadata": {},
   "outputs": [
    {
     "data": {
      "text/plain": [
       "<tf.Tensor: shape=(2, 3), dtype=float32, numpy=\n",
       "array([[1., 2., 3.],\n",
       "       [4., 5., 6.]], dtype=float32)>"
      ]
     },
     "execution_count": 3,
     "metadata": {},
     "output_type": "execute_result"
    }
   ],
   "source": [
    "# El tensor representa una matriz\n",
    "tf.constant([[1., 2., 3.], [4., 5., 6.]])"
   ]
  },
  {
   "cell_type": "code",
   "execution_count": 4,
   "id": "1145b1cf",
   "metadata": {},
   "outputs": [
    {
     "data": {
      "text/plain": [
       "<tf.Tensor: shape=(), dtype=int32, numpy=15>"
      ]
     },
     "execution_count": 4,
     "metadata": {},
     "output_type": "execute_result"
    }
   ],
   "source": [
    "# El tensor representa un escalar\n",
    "tf.constant(15)"
   ]
  },
  {
   "cell_type": "markdown",
   "id": "fe0c4ff8",
   "metadata": {},
   "source": [
    "Al igual que un _ndarray_ de NumPy, un tensor tiene una forma (shape) y un tipo (dtype)"
   ]
  },
  {
   "cell_type": "code",
   "execution_count": 7,
   "id": "9bb454eb",
   "metadata": {},
   "outputs": [
    {
     "data": {
      "text/plain": [
       "TensorShape([2, 2])"
      ]
     },
     "execution_count": 7,
     "metadata": {},
     "output_type": "execute_result"
    }
   ],
   "source": [
    "t = tf.constant([[1., 2.], [3., 4.]])\n",
    "t.shape"
   ]
  },
  {
   "cell_type": "code",
   "execution_count": 8,
   "id": "a4c064f2",
   "metadata": {},
   "outputs": [
    {
     "data": {
      "text/plain": [
       "tf.float32"
      ]
     },
     "execution_count": 8,
     "metadata": {},
     "output_type": "execute_result"
    }
   ],
   "source": [
    "t.dtype"
   ]
  },
  {
   "cell_type": "markdown",
   "id": "8ec4299f",
   "metadata": {},
   "source": [
    "## Acceso a los elementos de un Tensor"
   ]
  },
  {
   "cell_type": "markdown",
   "id": "6a59b4c3",
   "metadata": {},
   "source": [
    "La manera de indexar los valores de un Tensor es igual a la que se utiliza para indexar los elementos de un _ndarray_ de Numpy"
   ]
  },
  {
   "cell_type": "code",
   "execution_count": 9,
   "id": "33aa91c1",
   "metadata": {},
   "outputs": [
    {
     "data": {
      "text/plain": [
       "TensorShape([2, 3])"
      ]
     },
     "execution_count": 9,
     "metadata": {},
     "output_type": "execute_result"
    }
   ],
   "source": [
    "# Definición de un tensor que representa una matriz\n",
    "t = tf.constant([[1., 2., 3.], [4., 5., 6.]])\n",
    "t.shape"
   ]
  },
  {
   "cell_type": "code",
   "execution_count": 10,
   "id": "2eefdb08",
   "metadata": {},
   "outputs": [
    {
     "data": {
      "text/plain": [
       "<tf.Tensor: shape=(3,), dtype=float32, numpy=array([4., 5., 6.], dtype=float32)>"
      ]
     },
     "execution_count": 10,
     "metadata": {},
     "output_type": "execute_result"
    }
   ],
   "source": [
    "# Acceso a la segunda fila del tensor\n",
    "t[1,:]"
   ]
  },
  {
   "cell_type": "code",
   "execution_count": 11,
   "id": "409ebae3",
   "metadata": {},
   "outputs": [
    {
     "data": {
      "text/plain": [
       "<tf.Tensor: shape=(2,), dtype=float32, numpy=array([1., 4.], dtype=float32)>"
      ]
     },
     "execution_count": 11,
     "metadata": {},
     "output_type": "execute_result"
    }
   ],
   "source": [
    "# Acceso a la primera columna del tensor\n",
    "t[:, 0]"
   ]
  },
  {
   "cell_type": "markdown",
   "id": "0970c4e6",
   "metadata": {},
   "source": [
    "## Operaciones con Tensores"
   ]
  },
  {
   "cell_type": "markdown",
   "id": "185c5410",
   "metadata": {},
   "source": [
    "Uno de los aspectos más relevantes de los tensores es que podemos realizar todo tipo de operaciones con ellos."
   ]
  },
  {
   "cell_type": "code",
   "execution_count": 12,
   "id": "ca06ef2e",
   "metadata": {},
   "outputs": [
    {
     "data": {
      "text/plain": [
       "TensorShape([2, 3])"
      ]
     },
     "execution_count": 12,
     "metadata": {},
     "output_type": "execute_result"
    }
   ],
   "source": [
    "# Definición de un tensor que representa una matriz\n",
    "t = tf.constant([[1., 2., 3.], [4., 5., 6.]])\n",
    "t.shape"
   ]
  },
  {
   "cell_type": "code",
   "execution_count": 13,
   "id": "bbadfec7",
   "metadata": {},
   "outputs": [
    {
     "name": "stdout",
     "output_type": "stream",
     "text": [
      "tf.Tensor(\n",
      "[[1. 2. 3.]\n",
      " [4. 5. 6.]], shape=(2, 3), dtype=float32)\n",
      "tf.Tensor(\n",
      "[[11. 12. 13.]\n",
      " [14. 15. 16.]], shape=(2, 3), dtype=float32)\n"
     ]
    }
   ],
   "source": [
    "# Suma de un tensor y un escalar\n",
    "print(t)\n",
    "print(t + 10)"
   ]
  },
  {
   "cell_type": "code",
   "execution_count": 14,
   "id": "a71071a5",
   "metadata": {},
   "outputs": [
    {
     "name": "stdout",
     "output_type": "stream",
     "text": [
      "tf.Tensor(\n",
      "[[ 2.  4.  6.]\n",
      " [ 8. 10. 12.]], shape=(2, 3), dtype=float32)\n"
     ]
    }
   ],
   "source": [
    "# suma de dos tensores\n",
    "print(t + t)"
   ]
  },
  {
   "cell_type": "code",
   "execution_count": 16,
   "id": "5458b2cb",
   "metadata": {},
   "outputs": [
    {
     "data": {
      "text/plain": [
       "<tf.Tensor: shape=(2, 3), dtype=float32, numpy=\n",
       "array([[ 1.,  4.,  9.],\n",
       "       [16., 25., 36.]], dtype=float32)>"
      ]
     },
     "execution_count": 16,
     "metadata": {},
     "output_type": "execute_result"
    }
   ],
   "source": [
    "# Cuadro de un tensor\n",
    "tf.square(t)"
   ]
  },
  {
   "cell_type": "markdown",
   "id": "5e989972",
   "metadata": {},
   "source": [
    "Tensorflow nos proporciona una amplia gama de funciones matemáticas que podemos utilizar para operar tensores:\n",
    "- tf.exp()\n",
    "- tf.sqrt()\n",
    "- tf.transpose()\n",
    "- ..."
   ]
  },
  {
   "cell_type": "markdown",
   "id": "4b10993d",
   "metadata": {},
   "source": [
    "## Tensores y conversión de tipos"
   ]
  },
  {
   "cell_type": "markdown",
   "id": "22e79f0f",
   "metadata": {},
   "source": [
    "Una de las cosas relevantes que se debe tener en cuenta cuando se utiliza Tensorflow, es que no realiza conversiónde tipos al realizar una operación. Esto quiere decir que si no se utilizan valores del mismo tipo en la operación, se producirá una excepción."
   ]
  },
  {
   "cell_type": "code",
   "execution_count": 18,
   "id": "e50f9551",
   "metadata": {},
   "outputs": [],
   "source": [
    "# Creación de dos tensores\n",
    "t1 = tf.constant(1.0)\n",
    "t2 = tf.constant(2)"
   ]
  },
  {
   "cell_type": "code",
   "execution_count": 20,
   "id": "c34bdd3a",
   "metadata": {},
   "outputs": [
    {
     "name": "stdout",
     "output_type": "stream",
     "text": [
      "Tipo t1: <dtype: 'float32'>\n",
      "Tipo t2: <dtype: 'int32'>\n"
     ]
    }
   ],
   "source": [
    "print('Tipo t1:', t1.dtype)\n",
    "print('Tipo t2:', t2.dtype)"
   ]
  },
  {
   "cell_type": "code",
   "execution_count": 21,
   "id": "acdcd7bc",
   "metadata": {},
   "outputs": [
    {
     "name": "stdout",
     "output_type": "stream",
     "text": [
      "Exception: cannot compute AddV2 as input #1(zero-based) was expected to be a float tensor but is a int32 tensor [Op:AddV2]\n"
     ]
    }
   ],
   "source": [
    "try:\n",
    "    t3 = t1 + t2\n",
    "except Exception as e:\n",
    "    print('Exception:', e)"
   ]
  },
  {
   "cell_type": "code",
   "execution_count": 22,
   "id": "a51cef0d",
   "metadata": {},
   "outputs": [
    {
     "name": "stdout",
     "output_type": "stream",
     "text": [
      "Exception: cannot compute AddV2 as input #1(zero-based) was expected to be a int32 tensor but is a float tensor [Op:AddV2]\n"
     ]
    }
   ],
   "source": [
    "try: \n",
    "    tf.constant([1, 2, 3]) + tf.constant([1.0, 2.0, 3.0])\n",
    "except Exception as e:\n",
    "    print('Exception:', e)"
   ]
  },
  {
   "cell_type": "markdown",
   "id": "6fc7da79",
   "metadata": {},
   "source": [
    "## Tensores variables"
   ]
  },
  {
   "cell_type": "markdown",
   "id": "215465e9",
   "metadata": {},
   "source": [
    "Hasta ahora, la estructura de Tensorflow que hemos utilizado para almacenar valores son inmutables, esto quiere decir que no podemos hacer modificaciones una vez se han creado."
   ]
  },
  {
   "cell_type": "code",
   "execution_count": 23,
   "id": "1a9826c1",
   "metadata": {},
   "outputs": [
    {
     "ename": "TypeError",
     "evalue": "'tensorflow.python.framework.ops.EagerTensor' object does not support item assignment",
     "output_type": "error",
     "traceback": [
      "\u001b[1;31m---------------------------------------------------------------------------\u001b[0m",
      "\u001b[1;31mTypeError\u001b[0m                                 Traceback (most recent call last)",
      "\u001b[1;32m~\\AppData\\Local\\Temp/ipykernel_16120/1119061600.py\u001b[0m in \u001b[0;36m<module>\u001b[1;34m\u001b[0m\n\u001b[0;32m      1\u001b[0m \u001b[0mt\u001b[0m \u001b[1;33m=\u001b[0m \u001b[0mtf\u001b[0m\u001b[1;33m.\u001b[0m\u001b[0mconstant\u001b[0m\u001b[1;33m(\u001b[0m\u001b[1;33m[\u001b[0m\u001b[1;36m1.0\u001b[0m\u001b[1;33m,\u001b[0m \u001b[1;36m2.0\u001b[0m\u001b[1;33m,\u001b[0m \u001b[1;36m3.0\u001b[0m\u001b[1;33m]\u001b[0m\u001b[1;33m)\u001b[0m\u001b[1;33m\u001b[0m\u001b[1;33m\u001b[0m\u001b[0m\n\u001b[1;32m----> 2\u001b[1;33m \u001b[0mt\u001b[0m\u001b[1;33m[\u001b[0m\u001b[1;36m0\u001b[0m\u001b[1;33m]\u001b[0m \u001b[1;33m=\u001b[0m \u001b[1;36m4.0\u001b[0m\u001b[1;33m\u001b[0m\u001b[1;33m\u001b[0m\u001b[0m\n\u001b[0m",
      "\u001b[1;31mTypeError\u001b[0m: 'tensorflow.python.framework.ops.EagerTensor' object does not support item assignment"
     ]
    }
   ],
   "source": [
    "t = tf.constant([1.0, 2.0, 3.0])\n",
    "t[0] = 4.0"
   ]
  },
  {
   "cell_type": "markdown",
   "id": "6017577d",
   "metadata": {},
   "source": [
    "Si necesitamos crear una estructura que pueda modificarse después de haber sido creada, entonces tenemos que utilizar _tf.Variable_"
   ]
  },
  {
   "cell_type": "code",
   "execution_count": 24,
   "id": "a69cf789",
   "metadata": {},
   "outputs": [
    {
     "name": "stdout",
     "output_type": "stream",
     "text": [
      "Tensor original: tf.Tensor([1. 2. 3.], shape=(3,), dtype=float32)\n",
      "Tensor modificado: tf.Tensor([4. 2. 3.], shape=(3,), dtype=float32)\n"
     ]
    }
   ],
   "source": [
    "t = tf.Variable([1.0, 2.0, 3.0])\n",
    "print('Tensor original:', t.value())\n",
    "\n",
    "t[0].assign(4.0)\n",
    "print('Tensor modificado:', t.value())"
   ]
  },
  {
   "cell_type": "markdown",
   "id": "c4062949",
   "metadata": {},
   "source": [
    "Tensorflow soporta otros tipos de estructuras de datos como las cadenas de texto"
   ]
  },
  {
   "cell_type": "code",
   "execution_count": 25,
   "id": "d1032cb4",
   "metadata": {},
   "outputs": [
    {
     "data": {
      "text/plain": [
       "<tf.Tensor: shape=(), dtype=string, numpy=b'Hola mundo'>"
      ]
     },
     "execution_count": 25,
     "metadata": {},
     "output_type": "execute_result"
    }
   ],
   "source": [
    "tf.constant(b'Hola mundo')"
   ]
  },
  {
   "cell_type": "code",
   "execution_count": 26,
   "id": "c2b69ce4",
   "metadata": {},
   "outputs": [
    {
     "data": {
      "text/plain": [
       "<tf.Tensor: shape=(), dtype=string, numpy=b'M\\xc3\\xa9xico'>"
      ]
     },
     "execution_count": 26,
     "metadata": {},
     "output_type": "execute_result"
    }
   ],
   "source": [
    "tf.constant('México')"
   ]
  },
  {
   "cell_type": "code",
   "execution_count": 28,
   "id": "4284293f",
   "metadata": {},
   "outputs": [
    {
     "data": {
      "text/plain": [
       "<tf.Tensor: shape=(1, 3), dtype=string, numpy=array([[b'Hola', b'mundo', b'm\\xc3\\xa9xico']], dtype=object)>"
      ]
     },
     "execution_count": 28,
     "metadata": {},
     "output_type": "execute_result"
    }
   ],
   "source": [
    "tf.constant([['Hola', 'mundo', 'méxico']])"
   ]
  },
  {
   "cell_type": "code",
   "execution_count": null,
   "id": "c20b77d0",
   "metadata": {},
   "outputs": [],
   "source": []
  }
 ],
 "metadata": {
  "kernelspec": {
   "display_name": "Python 3 (ipykernel)",
   "language": "python",
   "name": "python3"
  },
  "language_info": {
   "codemirror_mode": {
    "name": "ipython",
    "version": 3
   },
   "file_extension": ".py",
   "mimetype": "text/x-python",
   "name": "python",
   "nbconvert_exporter": "python",
   "pygments_lexer": "ipython3",
   "version": "3.8.11"
  }
 },
 "nbformat": 4,
 "nbformat_minor": 5
}
