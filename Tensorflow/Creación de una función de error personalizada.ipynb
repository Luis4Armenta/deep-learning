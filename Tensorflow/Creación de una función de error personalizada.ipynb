{
 "cells": [
  {
   "cell_type": "markdown",
   "id": "2a8b83c5",
   "metadata": {},
   "source": [
    "# Funciones de error personalizadas con Tensorflow"
   ]
  },
  {
   "cell_type": "code",
   "execution_count": 2,
   "id": "3d150351",
   "metadata": {},
   "outputs": [
    {
     "data": {
      "text/plain": [
       "'2.6.0'"
      ]
     },
     "execution_count": 2,
     "metadata": {},
     "output_type": "execute_result"
    }
   ],
   "source": [
    "import tensorflow as tf\n",
    "\n",
    "tf.__version__"
   ]
  },
  {
   "cell_type": "markdown",
   "id": "55e27b0b",
   "metadata": {},
   "source": [
    "## Huber loss"
   ]
  },
  {
   "cell_type": "markdown",
   "id": "604e71c4",
   "metadata": {},
   "source": [
    "La función de pérdida de Huber describe la pena incurrida por un procedimiento de estimación f. Huber (1964) define la función de pérdida de forma fragmentada por:\n",
    "\n",
    "$$ {\\displaystyle L_{\\delta }(y,h(x))={\\begin{cases}{\\frac {1}{2}}(y-h(x))^{2} \\hspace{1.5cm} {\\textrm {for}}|y-h(x)|\\leq \\delta ,\\\\\\delta \\,|y-h(x)|-{\\frac {1}{2}}\\delta ^{2} \\hspace{5mm} {\\textrm {otherwise.}}\\end{cases}}}$$\n",
    "\n",
    "Más información: https://en.wikipedia.org/wiki/Huber_loss"
   ]
  },
  {
   "cell_type": "code",
   "execution_count": 7,
   "id": "39af3d3b",
   "metadata": {},
   "outputs": [],
   "source": [
    "# Función que genera la función de pérdida de Huber\n",
    "def create_huber(threshold=1.0):\n",
    "    def huber_fn(y_true, y_pred):\n",
    "        error = y_true - y_pred\n",
    "        is_small_error = tf.abs(error) <= threshold\n",
    "        squared_loss = tf.square(error) / 2\n",
    "        linear_loss  = threshold * tf.abs(error) - threshold**2 / 2\n",
    "        return tf.where(is_small_error, squared_loss, linear_loss)\n",
    "    return huber_fn"
   ]
  },
  {
   "cell_type": "markdown",
   "id": "173811e7",
   "metadata": {},
   "source": [
    "A continuación se representa gráficamente la función de pérdida de Huber en función del threshold seleccionado"
   ]
  },
  {
   "cell_type": "code",
   "execution_count": 10,
   "id": "1991c8af",
   "metadata": {},
   "outputs": [],
   "source": [
    "# El valor más habitual para la función de pérdida de huber es 1.0\n",
    "huber_fn = create_huber(1.0)"
   ]
  },
  {
   "cell_type": "code",
   "execution_count": 11,
   "id": "b2013dbf",
   "metadata": {},
   "outputs": [
    {
     "data": {
      "image/png": "[encoded data removed]",
      "text/plain": [
       "<Figure size 720x396 with 1 Axes>"
      ]
     },
     "metadata": {
      "needs_background": "light"
     },
     "output_type": "display_data"
    }
   ],
   "source": [
    "# Representación gráfica de la función de pérdida de Huber\n",
    "from matplotlib import pyplot as plt\n",
    "import numpy as np\n",
    "\n",
    "plt.figure(figsize=(10, 5.5))\n",
    "\n",
    "z = np.linspace(-4, 4, 200)\n",
    "\n",
    "plt.plot(z, huber_fn(0, z), \"b-\", linewidth=2, label=\"huber($z$)\")\n",
    "\n",
    "plt.gca().axvline(x=0, color='k')\n",
    "plt.axis([-4, 4, 0, 4])\n",
    "plt.grid(True)\n",
    "plt.xlabel(\"$z$\")\n",
    "plt.ylabel(\"$huber\\_loss(0, z)$\")\n",
    "plt.legend(fontsize=14)\n",
    "plt.title(\"Huber loss\", fontsize=14)\n",
    "plt.show()"
   ]
  },
  {
   "cell_type": "markdown",
   "id": "d7d5db29",
   "metadata": {},
   "source": [
    "## Entrenando una Red Neuronal Artificial con la nueva función de error"
   ]
  },
  {
   "cell_type": "markdown",
   "id": "b08b2a4f",
   "metadata": {},
   "source": [
    "A continuación se pone en práctica la función de error definida en el apartado anterior en un ejercicio práctico. Para ello, se va a utilizar el caso de uso práctico de prediccióndel precio de una vivienda presentado en la sección de introducción a Keras"
   ]
  },
  {
   "cell_type": "markdown",
   "id": "6ea16432",
   "metadata": {},
   "source": [
    "### Importando el conjunto de datos"
   ]
  },
  {
   "cell_type": "code",
   "execution_count": 12,
   "id": "72067772",
   "metadata": {},
   "outputs": [],
   "source": [
    "from tensorflow.keras import datasets\n",
    "boston_housing = datasets.boston_housing"
   ]
  },
  {
   "cell_type": "code",
   "execution_count": 13,
   "id": "0b375aa4",
   "metadata": {},
   "outputs": [],
   "source": [
    "(X_train, y_train), (X_test, y_test) = boston_housing.load_data()"
   ]
  },
  {
   "cell_type": "code",
   "execution_count": 14,
   "id": "2d4a96af",
   "metadata": {},
   "outputs": [
    {
     "data": {
      "text/html": [
       "<div>\n",
       "<style scoped>\n",
       "    .dataframe tbody tr th:only-of-type {\n",
       "        vertical-align: middle;\n",
       "    }\n",
       "\n",
       "    .dataframe tbody tr th {\n",
       "        vertical-align: top;\n",
       "    }\n",
       "\n",
       "    .dataframe thead th {\n",
       "        text-align: right;\n",
       "    }\n",
       "</style>\n",
       "<table border=\"1\" class=\"dataframe\">\n",
       "  <thead>\n",
       "    <tr style=\"text-align: right;\">\n",
       "      <th></th>\n",
       "      <th>CRIM</th>\n",
       "      <th>ZN</th>\n",
       "      <th>INDUS</th>\n",
       "      <th>CHAS</th>\n",
       "      <th>NOX</th>\n",
       "      <th>RM</th>\n",
       "      <th>AGE</th>\n",
       "      <th>DIS</th>\n",
       "      <th>RAD</th>\n",
       "      <th>TAX</th>\n",
       "      <th>PTRATIO</th>\n",
       "      <th>B</th>\n",
       "      <th>LSTAT</th>\n",
       "      <th>MEDV</th>\n",
       "    </tr>\n",
       "  </thead>\n",
       "  <tbody>\n",
       "    <tr>\n",
       "      <th>0</th>\n",
       "      <td>1.23247</td>\n",
       "      <td>0.0</td>\n",
       "      <td>8.14</td>\n",
       "      <td>0.0</td>\n",
       "      <td>0.538</td>\n",
       "      <td>6.142</td>\n",
       "      <td>91.7</td>\n",
       "      <td>3.9769</td>\n",
       "      <td>4.0</td>\n",
       "      <td>307.0</td>\n",
       "      <td>21.0</td>\n",
       "      <td>396.90</td>\n",
       "      <td>18.72</td>\n",
       "      <td>15.2</td>\n",
       "    </tr>\n",
       "    <tr>\n",
       "      <th>1</th>\n",
       "      <td>0.02177</td>\n",
       "      <td>82.5</td>\n",
       "      <td>2.03</td>\n",
       "      <td>0.0</td>\n",
       "      <td>0.415</td>\n",
       "      <td>7.610</td>\n",
       "      <td>15.7</td>\n",
       "      <td>6.2700</td>\n",
       "      <td>2.0</td>\n",
       "      <td>348.0</td>\n",
       "      <td>14.7</td>\n",
       "      <td>395.38</td>\n",
       "      <td>3.11</td>\n",
       "      <td>42.3</td>\n",
       "    </tr>\n",
       "    <tr>\n",
       "      <th>2</th>\n",
       "      <td>4.89822</td>\n",
       "      <td>0.0</td>\n",
       "      <td>18.10</td>\n",
       "      <td>0.0</td>\n",
       "      <td>0.631</td>\n",
       "      <td>4.970</td>\n",
       "      <td>100.0</td>\n",
       "      <td>1.3325</td>\n",
       "      <td>24.0</td>\n",
       "      <td>666.0</td>\n",
       "      <td>20.2</td>\n",
       "      <td>375.52</td>\n",
       "      <td>3.26</td>\n",
       "      <td>50.0</td>\n",
       "    </tr>\n",
       "    <tr>\n",
       "      <th>3</th>\n",
       "      <td>0.03961</td>\n",
       "      <td>0.0</td>\n",
       "      <td>5.19</td>\n",
       "      <td>0.0</td>\n",
       "      <td>0.515</td>\n",
       "      <td>6.037</td>\n",
       "      <td>34.5</td>\n",
       "      <td>5.9853</td>\n",
       "      <td>5.0</td>\n",
       "      <td>224.0</td>\n",
       "      <td>20.2</td>\n",
       "      <td>396.90</td>\n",
       "      <td>8.01</td>\n",
       "      <td>21.1</td>\n",
       "    </tr>\n",
       "    <tr>\n",
       "      <th>4</th>\n",
       "      <td>3.69311</td>\n",
       "      <td>0.0</td>\n",
       "      <td>18.10</td>\n",
       "      <td>0.0</td>\n",
       "      <td>0.713</td>\n",
       "      <td>6.376</td>\n",
       "      <td>88.4</td>\n",
       "      <td>2.5671</td>\n",
       "      <td>24.0</td>\n",
       "      <td>666.0</td>\n",
       "      <td>20.2</td>\n",
       "      <td>391.43</td>\n",
       "      <td>14.65</td>\n",
       "      <td>17.7</td>\n",
       "    </tr>\n",
       "    <tr>\n",
       "      <th>5</th>\n",
       "      <td>0.28392</td>\n",
       "      <td>0.0</td>\n",
       "      <td>7.38</td>\n",
       "      <td>0.0</td>\n",
       "      <td>0.493</td>\n",
       "      <td>5.708</td>\n",
       "      <td>74.3</td>\n",
       "      <td>4.7211</td>\n",
       "      <td>5.0</td>\n",
       "      <td>287.0</td>\n",
       "      <td>19.6</td>\n",
       "      <td>391.13</td>\n",
       "      <td>11.74</td>\n",
       "      <td>18.5</td>\n",
       "    </tr>\n",
       "    <tr>\n",
       "      <th>6</th>\n",
       "      <td>9.18702</td>\n",
       "      <td>0.0</td>\n",
       "      <td>18.10</td>\n",
       "      <td>0.0</td>\n",
       "      <td>0.700</td>\n",
       "      <td>5.536</td>\n",
       "      <td>100.0</td>\n",
       "      <td>1.5804</td>\n",
       "      <td>24.0</td>\n",
       "      <td>666.0</td>\n",
       "      <td>20.2</td>\n",
       "      <td>396.90</td>\n",
       "      <td>23.60</td>\n",
       "      <td>11.3</td>\n",
       "    </tr>\n",
       "    <tr>\n",
       "      <th>7</th>\n",
       "      <td>4.09740</td>\n",
       "      <td>0.0</td>\n",
       "      <td>19.58</td>\n",
       "      <td>0.0</td>\n",
       "      <td>0.871</td>\n",
       "      <td>5.468</td>\n",
       "      <td>100.0</td>\n",
       "      <td>1.4118</td>\n",
       "      <td>5.0</td>\n",
       "      <td>403.0</td>\n",
       "      <td>14.7</td>\n",
       "      <td>396.90</td>\n",
       "      <td>26.42</td>\n",
       "      <td>15.6</td>\n",
       "    </tr>\n",
       "    <tr>\n",
       "      <th>8</th>\n",
       "      <td>2.15505</td>\n",
       "      <td>0.0</td>\n",
       "      <td>19.58</td>\n",
       "      <td>0.0</td>\n",
       "      <td>0.871</td>\n",
       "      <td>5.628</td>\n",
       "      <td>100.0</td>\n",
       "      <td>1.5166</td>\n",
       "      <td>5.0</td>\n",
       "      <td>403.0</td>\n",
       "      <td>14.7</td>\n",
       "      <td>169.27</td>\n",
       "      <td>16.65</td>\n",
       "      <td>15.6</td>\n",
       "    </tr>\n",
       "    <tr>\n",
       "      <th>9</th>\n",
       "      <td>1.62864</td>\n",
       "      <td>0.0</td>\n",
       "      <td>21.89</td>\n",
       "      <td>0.0</td>\n",
       "      <td>0.624</td>\n",
       "      <td>5.019</td>\n",
       "      <td>100.0</td>\n",
       "      <td>1.4394</td>\n",
       "      <td>4.0</td>\n",
       "      <td>437.0</td>\n",
       "      <td>21.2</td>\n",
       "      <td>396.90</td>\n",
       "      <td>34.41</td>\n",
       "      <td>14.4</td>\n",
       "    </tr>\n",
       "  </tbody>\n",
       "</table>\n",
       "</div>"
      ],
      "text/plain": [
       "      CRIM    ZN  INDUS  CHAS    NOX  ...    TAX  PTRATIO       B  LSTAT  MEDV\n",
       "0  1.23247   0.0   8.14   0.0  0.538  ...  307.0     21.0  396.90  18.72  15.2\n",
       "1  0.02177  82.5   2.03   0.0  0.415  ...  348.0     14.7  395.38   3.11  42.3\n",
       "2  4.89822   0.0  18.10   0.0  0.631  ...  666.0     20.2  375.52   3.26  50.0\n",
       "3  0.03961   0.0   5.19   0.0  0.515  ...  224.0     20.2  396.90   8.01  21.1\n",
       "4  3.69311   0.0  18.10   0.0  0.713  ...  666.0     20.2  391.43  14.65  17.7\n",
       "5  0.28392   0.0   7.38   0.0  0.493  ...  287.0     19.6  391.13  11.74  18.5\n",
       "6  9.18702   0.0  18.10   0.0  0.700  ...  666.0     20.2  396.90  23.60  11.3\n",
       "7  4.09740   0.0  19.58   0.0  0.871  ...  403.0     14.7  396.90  26.42  15.6\n",
       "8  2.15505   0.0  19.58   0.0  0.871  ...  403.0     14.7  169.27  16.65  15.6\n",
       "9  1.62864   0.0  21.89   0.0  0.624  ...  437.0     21.2  396.90  34.41  14.4\n",
       "\n",
       "[10 rows x 14 columns]"
      ]
     },
     "execution_count": 14,
     "metadata": {},
     "output_type": "execute_result"
    }
   ],
   "source": [
    "import pandas as pd\n",
    "\n",
    "features = ['CRIM', 'ZN', 'INDUS', 'CHAS', 'NOX', 'RM', 'AGE', 'DIS', 'RAD', 'TAX', 'PTRATIO', 'B', 'LSTAT', 'MEDV']\n",
    "\n",
    "df_train = pd.DataFrame(np.column_stack([X_train, y_train]), columns=features)\n",
    "df_train.head(10)"
   ]
  },
  {
   "cell_type": "markdown",
   "id": "a936f2e8",
   "metadata": {},
   "source": [
    "### División del conjunto de datos"
   ]
  },
  {
   "cell_type": "code",
   "execution_count": 16,
   "id": "db2a19f5",
   "metadata": {},
   "outputs": [],
   "source": [
    "from sklearn.model_selection import train_test_split\n",
    "\n",
    "X_test, X_val, y_test, y_val = train_test_split(X_test, y_test, test_size=0.5)"
   ]
  },
  {
   "cell_type": "markdown",
   "id": "1ab70672",
   "metadata": {},
   "source": [
    "### Escalando el conjunto de datos"
   ]
  },
  {
   "cell_type": "code",
   "execution_count": 29,
   "id": "58c34dc2",
   "metadata": {},
   "outputs": [],
   "source": [
    "from sklearn.preprocessing import RobustScaler\n",
    "\n",
    "scaler = RobustScaler()\n",
    "\n",
    "X_train_prep = scaler.fit_transform(X_train)\n",
    "X_val_preep = scaler.fit_transform(X_val)\n",
    "X_test_prep = scaler.fit_transform(X_test)"
   ]
  },
  {
   "cell_type": "markdown",
   "id": "55a2e475",
   "metadata": {},
   "source": [
    "### Definición de la arquitectura de la Red Neuronal Artificial"
   ]
  },
  {
   "cell_type": "code",
   "execution_count": 18,
   "id": "42f86620",
   "metadata": {},
   "outputs": [],
   "source": [
    "from tensorflow.keras import models\n",
    "from tensorflow.keras import layers"
   ]
  },
  {
   "cell_type": "code",
   "execution_count": 24,
   "id": "2238c9c6",
   "metadata": {},
   "outputs": [],
   "source": [
    "network = models.Sequential()\n",
    "\n",
    "network.add(layers.Dense(30, activation='relu', input_shape=X_train.shape[1:]))\n",
    "network.add(layers.Dense(10, activation='relu'))\n",
    "network.add(layers.Dense(1))"
   ]
  },
  {
   "cell_type": "code",
   "execution_count": 25,
   "id": "526bac63",
   "metadata": {},
   "outputs": [
    {
     "name": "stdout",
     "output_type": "stream",
     "text": [
      "Model: \"sequential_2\"\n",
      "_________________________________________________________________\n",
      "Layer (type)                 Output Shape              Param #   \n",
      "=================================================================\n",
      "dense_3 (Dense)              (None, 30)                420       \n",
      "_________________________________________________________________\n",
      "dense_4 (Dense)              (None, 10)                310       \n",
      "_________________________________________________________________\n",
      "dense_5 (Dense)              (None, 1)                 11        \n",
      "=================================================================\n",
      "Total params: 741\n",
      "Trainable params: 741\n",
      "Non-trainable params: 0\n",
      "_________________________________________________________________\n"
     ]
    }
   ],
   "source": [
    "network.summary()"
   ]
  },
  {
   "cell_type": "markdown",
   "id": "0991e7f4",
   "metadata": {},
   "source": [
    "### Entrenamos la red neuronal artificial"
   ]
  },
  {
   "cell_type": "markdown",
   "id": "3eb3e6c9",
   "metadata": {},
   "source": [
    "#### Función de error utilizada en el ejercicio práctico de introducción a Keras"
   ]
  },
  {
   "cell_type": "markdown",
   "id": "8267d4d1",
   "metadata": {},
   "source": [
    "A continuación se muestra la representación gráfica de la evaluación de los valores resultantes de la función de error __mean_squared_error__ durante el proceso de entrenamiento"
   ]
  },
  {
   "cell_type": "code",
   "execution_count": 26,
   "id": "0c16c407",
   "metadata": {},
   "outputs": [],
   "source": [
    "network.compile(\n",
    "    loss='mean_squared_error',\n",
    "    optimizer='adam',\n",
    "    metrics=['mae']\n",
    ")"
   ]
  },
  {
   "cell_type": "code",
   "execution_count": 27,
   "id": "f6455033",
   "metadata": {},
   "outputs": [
    {
     "name": "stdout",
     "output_type": "stream",
     "text": [
      "Epoch 1/50\n",
      "13/13 [==============================] - 1s 22ms/step - loss: 540.1432 - mae: 21.1869 - val_loss: 634.7801 - val_mae: 22.7708\n",
      "Epoch 2/50\n",
      "13/13 [==============================] - 0s 7ms/step - loss: 513.2339 - mae: 20.4423 - val_loss: 614.1540 - val_mae: 22.4439\n",
      "Epoch 3/50\n",
      "13/13 [==============================] - 0s 3ms/step - loss: 485.0610 - mae: 19.6953 - val_loss: 592.8681 - val_mae: 22.0518\n",
      "Epoch 4/50\n",
      "13/13 [==============================] - 0s 3ms/step - loss: 455.1276 - mae: 18.9991 - val_loss: 570.7017 - val_mae: 21.5758\n",
      "Epoch 5/50\n",
      "13/13 [==============================] - 0s 3ms/step - loss: 422.0855 - mae: 18.2189 - val_loss: 547.7747 - val_mae: 20.9973\n",
      "Epoch 6/50\n",
      "13/13 [==============================] - 0s 3ms/step - loss: 389.1427 - mae: 17.4652 - val_loss: 518.6449 - val_mae: 20.2717\n",
      "Epoch 7/50\n",
      "13/13 [==============================] - 0s 3ms/step - loss: 354.5233 - mae: 16.6166 - val_loss: 486.2411 - val_mae: 19.4777\n",
      "Epoch 8/50\n",
      "13/13 [==============================] - 0s 3ms/step - loss: 319.8726 - mae: 15.6072 - val_loss: 448.2256 - val_mae: 18.5590\n",
      "Epoch 9/50\n",
      "13/13 [==============================] - 0s 3ms/step - loss: 286.0530 - mae: 14.6176 - val_loss: 405.6225 - val_mae: 17.5457\n",
      "Epoch 10/50\n",
      "13/13 [==============================] - 0s 4ms/step - loss: 254.3210 - mae: 13.6195 - val_loss: 364.2719 - val_mae: 16.5586\n",
      "Epoch 11/50\n",
      "13/13 [==============================] - 0s 5ms/step - loss: 228.4975 - mae: 12.7990 - val_loss: 324.7966 - val_mae: 15.6115\n",
      "Epoch 12/50\n",
      "13/13 [==============================] - ETA: 0s - loss: 223.4098 - mae: 12.35 - 0s 5ms/step - loss: 206.2906 - mae: 12.0886 - val_loss: 290.8304 - val_mae: 14.7402\n",
      "Epoch 13/50\n",
      "13/13 [==============================] - 0s 3ms/step - loss: 188.6410 - mae: 11.4609 - val_loss: 261.1308 - val_mae: 13.9860\n",
      "Epoch 14/50\n",
      "13/13 [==============================] - 0s 3ms/step - loss: 173.2047 - mae: 10.9165 - val_loss: 235.5778 - val_mae: 13.2923\n",
      "Epoch 15/50\n",
      "13/13 [==============================] - 0s 3ms/step - loss: 159.3256 - mae: 10.3834 - val_loss: 214.7260 - val_mae: 12.6801\n",
      "Epoch 16/50\n",
      "13/13 [==============================] - 0s 7ms/step - loss: 146.0829 - mae: 9.8909 - val_loss: 195.6355 - val_mae: 12.0913\n",
      "Epoch 17/50\n",
      "13/13 [==============================] - 0s 13ms/step - loss: 133.4226 - mae: 9.4038 - val_loss: 178.2439 - val_mae: 11.5398\n",
      "Epoch 18/50\n",
      "13/13 [==============================] - 0s 3ms/step - loss: 121.8829 - mae: 8.9884 - val_loss: 164.1440 - val_mae: 11.1082\n",
      "Epoch 19/50\n",
      "13/13 [==============================] - 0s 3ms/step - loss: 110.7128 - mae: 8.5315 - val_loss: 150.4794 - val_mae: 10.6158\n",
      "Epoch 20/50\n",
      "13/13 [==============================] - 0s 3ms/step - loss: 99.9971 - mae: 8.0906 - val_loss: 139.0435 - val_mae: 10.1874\n",
      "Epoch 21/50\n",
      "13/13 [==============================] - 0s 10ms/step - loss: 90.1139 - mae: 7.6614 - val_loss: 126.7923 - val_mae: 9.7021\n",
      "Epoch 22/50\n",
      "13/13 [==============================] - 0s 8ms/step - loss: 81.1720 - mae: 7.2485 - val_loss: 114.4061 - val_mae: 9.2019\n",
      "Epoch 23/50\n",
      "13/13 [==============================] - 0s 4ms/step - loss: 72.4774 - mae: 6.8132 - val_loss: 104.7365 - val_mae: 8.7718\n",
      "Epoch 24/50\n",
      "13/13 [==============================] - 0s 5ms/step - loss: 64.9213 - mae: 6.4019 - val_loss: 96.0137 - val_mae: 8.3781\n",
      "Epoch 25/50\n",
      "13/13 [==============================] - 0s 4ms/step - loss: 57.6891 - mae: 5.9952 - val_loss: 87.1159 - val_mae: 7.9330\n",
      "Epoch 26/50\n",
      "13/13 [==============================] - 0s 4ms/step - loss: 51.1820 - mae: 5.6005 - val_loss: 79.2388 - val_mae: 7.5139\n",
      "Epoch 27/50\n",
      "13/13 [==============================] - 0s 4ms/step - loss: 45.7330 - mae: 5.2582 - val_loss: 72.8526 - val_mae: 7.1622\n",
      "Epoch 28/50\n",
      "13/13 [==============================] - 0s 3ms/step - loss: 40.5613 - mae: 4.8918 - val_loss: 66.7487 - val_mae: 6.8211\n",
      "Epoch 29/50\n",
      "13/13 [==============================] - 0s 3ms/step - loss: 36.4524 - mae: 4.5815 - val_loss: 61.8576 - val_mae: 6.5400\n",
      "Epoch 30/50\n",
      "13/13 [==============================] - 0s 4ms/step - loss: 32.7531 - mae: 4.3044 - val_loss: 56.9292 - val_mae: 6.2231\n",
      "Epoch 31/50\n",
      "13/13 [==============================] - 0s 4ms/step - loss: 29.8219 - mae: 4.0570 - val_loss: 52.6812 - val_mae: 5.9671\n",
      "Epoch 32/50\n",
      "13/13 [==============================] - 0s 4ms/step - loss: 27.1634 - mae: 3.8593 - val_loss: 49.9427 - val_mae: 5.8006\n",
      "Epoch 33/50\n",
      "13/13 [==============================] - 0s 4ms/step - loss: 25.1429 - mae: 3.6682 - val_loss: 46.3796 - val_mae: 5.5606\n",
      "Epoch 34/50\n",
      "13/13 [==============================] - 0s 4ms/step - loss: 23.3514 - mae: 3.5075 - val_loss: 44.2227 - val_mae: 5.4064\n",
      "Epoch 35/50\n",
      "13/13 [==============================] - 0s 3ms/step - loss: 21.9189 - mae: 3.3730 - val_loss: 42.5259 - val_mae: 5.2916\n",
      "Epoch 36/50\n",
      "13/13 [==============================] - 0s 3ms/step - loss: 20.7080 - mae: 3.2750 - val_loss: 40.5035 - val_mae: 5.1290\n",
      "Epoch 37/50\n",
      "13/13 [==============================] - 0s 3ms/step - loss: 19.6641 - mae: 3.1739 - val_loss: 39.0728 - val_mae: 5.0229\n",
      "Epoch 38/50\n",
      "13/13 [==============================] - 0s 4ms/step - loss: 18.8778 - mae: 3.1130 - val_loss: 38.5971 - val_mae: 5.0045\n",
      "Epoch 39/50\n",
      "13/13 [==============================] - 0s 3ms/step - loss: 18.1509 - mae: 3.0552 - val_loss: 36.6894 - val_mae: 4.8651\n",
      "Epoch 40/50\n",
      "13/13 [==============================] - 0s 4ms/step - loss: 17.5095 - mae: 2.9972 - val_loss: 35.8972 - val_mae: 4.7914\n",
      "Epoch 41/50\n",
      "13/13 [==============================] - 0s 3ms/step - loss: 16.9704 - mae: 2.9243 - val_loss: 35.2639 - val_mae: 4.7357\n",
      "Epoch 42/50\n",
      "13/13 [==============================] - 0s 3ms/step - loss: 16.5261 - mae: 2.8891 - val_loss: 34.6272 - val_mae: 4.6841\n",
      "Epoch 43/50\n",
      "13/13 [==============================] - 0s 4ms/step - loss: 16.0819 - mae: 2.8494 - val_loss: 34.0702 - val_mae: 4.6148\n",
      "Epoch 44/50\n",
      "13/13 [==============================] - 0s 4ms/step - loss: 15.6668 - mae: 2.7979 - val_loss: 32.9495 - val_mae: 4.5236\n",
      "Epoch 45/50\n",
      "13/13 [==============================] - 0s 5ms/step - loss: 15.3053 - mae: 2.7712 - val_loss: 32.9282 - val_mae: 4.5237\n",
      "Epoch 46/50\n",
      "13/13 [==============================] - 0s 3ms/step - loss: 15.1213 - mae: 2.7833 - val_loss: 32.4701 - val_mae: 4.4936\n",
      "Epoch 47/50\n",
      "13/13 [==============================] - 0s 3ms/step - loss: 14.7328 - mae: 2.7138 - val_loss: 31.4979 - val_mae: 4.3725\n",
      "Epoch 48/50\n",
      "13/13 [==============================] - 0s 3ms/step - loss: 14.4779 - mae: 2.7033 - val_loss: 32.2495 - val_mae: 4.4551\n",
      "Epoch 49/50\n",
      "13/13 [==============================] - 0s 3ms/step - loss: 14.2069 - mae: 2.6818 - val_loss: 31.2784 - val_mae: 4.3513\n",
      "Epoch 50/50\n",
      "13/13 [==============================] - 0s 3ms/step - loss: 13.9640 - mae: 2.6497 - val_loss: 30.7740 - val_mae: 4.2938\n"
     ]
    }
   ],
   "source": [
    "history = network.fit(\n",
    "    X_train_prep,\n",
    "    y_train,\n",
    "    epochs=50,\n",
    "    validation_data=(X_val_preep, y_val)\n",
    ")"
   ]
  },
  {
   "cell_type": "code",
   "execution_count": 28,
   "id": "60fe454e",
   "metadata": {},
   "outputs": [
    {
     "data": {
      "image/png": "[encoded data removed]",
      "text/plain": [
       "<Figure size 720x432 with 1 Axes>"
      ]
     },
     "metadata": {
      "needs_background": "light"
     },
     "output_type": "display_data"
    }
   ],
   "source": [
    "import pandas as pd\n",
    "import matplotlib.pyplot as plt\n",
    "\n",
    "pd.DataFrame(history.history)[['mae', 'val_mae']].plot(figsize=(10, 6))\n",
    "plt.grid(True)\n",
    "plt.xlabel('Epochs')\n",
    "plt.ylabel('loss')\n",
    "plt.show()"
   ]
  },
  {
   "cell_type": "markdown",
   "id": "57e03933",
   "metadata": {},
   "source": [
    "#### Evaluación de los resultados"
   ]
  },
  {
   "cell_type": "code",
   "execution_count": 30,
   "id": "8b483e00",
   "metadata": {},
   "outputs": [
    {
     "name": "stdout",
     "output_type": "stream",
     "text": [
      "2/2 [==============================] - 0s 2ms/step - loss: 1378.1495 - mae: 17.8150\n"
     ]
    }
   ],
   "source": [
    "test_loss, test_mae = network.evaluate(X_test_prep, y_test)"
   ]
  },
  {
   "cell_type": "code",
   "execution_count": 31,
   "id": "59c8ce2f",
   "metadata": {},
   "outputs": [
    {
     "name": "stdout",
     "output_type": "stream",
     "text": [
      "test_mae: 17.815038681030273\n"
     ]
    }
   ],
   "source": [
    "print('test_mae:', test_mae)"
   ]
  },
  {
   "cell_type": "markdown",
   "id": "46204d9a",
   "metadata": {},
   "source": [
    "#### Función de error Huber"
   ]
  },
  {
   "cell_type": "markdown",
   "id": "cb086682",
   "metadata": {},
   "source": [
    "A continuación se muestra la representación gráfica de la evaluación de los valores resultantes de la función de error de huber durante el proceso de entrenamiento."
   ]
  },
  {
   "cell_type": "code",
   "execution_count": 33,
   "id": "635b54a8",
   "metadata": {},
   "outputs": [],
   "source": [
    "network = models.Sequential()\n",
    "\n",
    "network.add(layers.Dense(30, activation='relu', input_shape=X_train.shape[1:]))\n",
    "network.add(layers.Dense(10, activation='relu'))\n",
    "network.add(layers.Dense(1))"
   ]
  },
  {
   "cell_type": "code",
   "execution_count": 34,
   "id": "b323fbad",
   "metadata": {},
   "outputs": [],
   "source": [
    "network.compile(\n",
    "    loss=create_huber(1.0),\n",
    "    optimizer='adam',\n",
    "    metrics=['mae']\n",
    ")"
   ]
  },
  {
   "cell_type": "code",
   "execution_count": 35,
   "id": "682dcbd5",
   "metadata": {},
   "outputs": [
    {
     "name": "stdout",
     "output_type": "stream",
     "text": [
      "Epoch 1/50\n",
      "13/13 [==============================] - 1s 13ms/step - loss: 21.2739 - mae: 21.7732 - val_loss: 22.9516 - val_mae: 23.4516\n",
      "Epoch 2/50\n",
      "13/13 [==============================] - 0s 3ms/step - loss: 20.6794 - mae: 21.1775 - val_loss: 22.7882 - val_mae: 23.2882\n",
      "Epoch 3/50\n",
      "13/13 [==============================] - 0s 3ms/step - loss: 20.1789 - mae: 20.6757 - val_loss: 22.6266 - val_mae: 23.1266\n",
      "Epoch 4/50\n",
      "13/13 [==============================] - 0s 3ms/step - loss: 19.8171 - mae: 20.3139 - val_loss: 22.4392 - val_mae: 22.9392\n",
      "Epoch 5/50\n",
      "13/13 [==============================] - 0s 2ms/step - loss: 19.5141 - mae: 20.0115 - val_loss: 22.2013 - val_mae: 22.7011\n",
      "Epoch 6/50\n",
      "13/13 [==============================] - 0s 3ms/step - loss: 19.2153 - mae: 19.7113 - val_loss: 21.9172 - val_mae: 22.4109\n",
      "Epoch 7/50\n",
      "13/13 [==============================] - 0s 3ms/step - loss: 18.8936 - mae: 19.3903 - val_loss: 21.5825 - val_mae: 22.0809\n",
      "Epoch 8/50\n",
      "13/13 [==============================] - 0s 3ms/step - loss: 18.5268 - mae: 19.0239 - val_loss: 21.2022 - val_mae: 21.6991\n",
      "Epoch 9/50\n",
      "13/13 [==============================] - 0s 2ms/step - loss: 18.0770 - mae: 18.5746 - val_loss: 20.7657 - val_mae: 21.2629\n",
      "Epoch 10/50\n",
      "13/13 [==============================] - 0s 3ms/step - loss: 17.5460 - mae: 18.0426 - val_loss: 20.2631 - val_mae: 20.7628\n",
      "Epoch 11/50\n",
      "13/13 [==============================] - 0s 3ms/step - loss: 16.9125 - mae: 17.4094 - val_loss: 19.6817 - val_mae: 20.1755\n",
      "Epoch 12/50\n",
      "13/13 [==============================] - 0s 4ms/step - loss: 16.1821 - mae: 16.6788 - val_loss: 18.9726 - val_mae: 19.4670\n",
      "Epoch 13/50\n",
      "13/13 [==============================] - 0s 3ms/step - loss: 15.2578 - mae: 15.7545 - val_loss: 18.1481 - val_mae: 18.6449\n",
      "Epoch 14/50\n",
      "13/13 [==============================] - 0s 11ms/step - loss: 14.1817 - mae: 14.6779 - val_loss: 17.1728 - val_mae: 17.6719\n",
      "Epoch 15/50\n",
      "13/13 [==============================] - 0s 8ms/step - loss: 13.0441 - mae: 13.5370 - val_loss: 16.0434 - val_mae: 16.5397\n",
      "Epoch 16/50\n",
      "13/13 [==============================] - 0s 4ms/step - loss: 11.9348 - mae: 12.4292 - val_loss: 15.0069 - val_mae: 15.4979\n",
      "Epoch 17/50\n",
      "13/13 [==============================] - 0s 5ms/step - loss: 11.0837 - mae: 11.5798 - val_loss: 14.0396 - val_mae: 14.5316\n",
      "Epoch 18/50\n",
      "13/13 [==============================] - 0s 5ms/step - loss: 10.3909 - mae: 10.8831 - val_loss: 13.2467 - val_mae: 13.7455\n",
      "Epoch 19/50\n",
      "13/13 [==============================] - 0s 3ms/step - loss: 9.8535 - mae: 10.3418 - val_loss: 12.5245 - val_mae: 13.0238\n",
      "Epoch 20/50\n",
      "13/13 [==============================] - 0s 3ms/step - loss: 9.3776 - mae: 9.8652 - val_loss: 11.9948 - val_mae: 12.4947\n",
      "Epoch 21/50\n",
      "13/13 [==============================] - 0s 3ms/step - loss: 8.9470 - mae: 9.4369 - val_loss: 11.4888 - val_mae: 11.9830\n",
      "Epoch 22/50\n",
      "13/13 [==============================] - 0s 9ms/step - loss: 8.5064 - mae: 8.9937 - val_loss: 11.0098 - val_mae: 11.5065\n",
      "Epoch 23/50\n",
      "13/13 [==============================] - 0s 7ms/step - loss: 8.0949 - mae: 8.5825 - val_loss: 10.5263 - val_mae: 11.0256\n",
      "Epoch 24/50\n",
      "13/13 [==============================] - 0s 3ms/step - loss: 7.6544 - mae: 8.1404 - val_loss: 10.0113 - val_mae: 10.5041\n",
      "Epoch 25/50\n",
      "13/13 [==============================] - 0s 3ms/step - loss: 7.2281 - mae: 7.7141 - val_loss: 9.6649 - val_mae: 10.1636\n",
      "Epoch 26/50\n",
      "13/13 [==============================] - 0s 3ms/step - loss: 6.8169 - mae: 7.3050 - val_loss: 9.2024 - val_mae: 9.7024\n",
      "Epoch 27/50\n",
      "13/13 [==============================] - 0s 3ms/step - loss: 6.4394 - mae: 6.9279 - val_loss: 8.6846 - val_mae: 9.1846\n",
      "Epoch 28/50\n",
      "13/13 [==============================] - 0s 5ms/step - loss: 6.0377 - mae: 6.5242 - val_loss: 8.2447 - val_mae: 8.7443\n",
      "Epoch 29/50\n",
      "13/13 [==============================] - 0s 3ms/step - loss: 5.6694 - mae: 6.1548 - val_loss: 7.7096 - val_mae: 8.2013\n",
      "Epoch 30/50\n",
      "13/13 [==============================] - 0s 3ms/step - loss: 5.2853 - mae: 5.7678 - val_loss: 7.3017 - val_mae: 7.7931\n",
      "Epoch 31/50\n",
      "13/13 [==============================] - 0s 3ms/step - loss: 4.9175 - mae: 5.4000 - val_loss: 6.8582 - val_mae: 7.3367\n",
      "Epoch 32/50\n",
      "13/13 [==============================] - 0s 3ms/step - loss: 4.5700 - mae: 5.0556 - val_loss: 6.4252 - val_mae: 6.9065\n",
      "Epoch 33/50\n",
      "13/13 [==============================] - 0s 4ms/step - loss: 4.2634 - mae: 4.7492 - val_loss: 5.9274 - val_mae: 6.4126\n",
      "Epoch 34/50\n",
      "13/13 [==============================] - 0s 5ms/step - loss: 3.9212 - mae: 4.4021 - val_loss: 5.6092 - val_mae: 6.0888\n",
      "Epoch 35/50\n",
      "13/13 [==============================] - 0s 4ms/step - loss: 3.6364 - mae: 4.1176 - val_loss: 5.1715 - val_mae: 5.6496\n",
      "Epoch 36/50\n",
      "13/13 [==============================] - 0s 3ms/step - loss: 3.3858 - mae: 3.8630 - val_loss: 4.7880 - val_mae: 5.2680\n",
      "Epoch 37/50\n",
      "13/13 [==============================] - 0s 3ms/step - loss: 3.2015 - mae: 3.6763 - val_loss: 4.5733 - val_mae: 5.0446\n",
      "Epoch 38/50\n",
      "13/13 [==============================] - 0s 3ms/step - loss: 3.0319 - mae: 3.5002 - val_loss: 4.3951 - val_mae: 4.8606\n",
      "Epoch 39/50\n",
      "13/13 [==============================] - 0s 2ms/step - loss: 2.8820 - mae: 3.3468 - val_loss: 4.1420 - val_mae: 4.6171\n",
      "Epoch 40/50\n",
      "13/13 [==============================] - 0s 3ms/step - loss: 2.7574 - mae: 3.2180 - val_loss: 4.0643 - val_mae: 4.5391\n",
      "Epoch 41/50\n",
      "13/13 [==============================] - 0s 3ms/step - loss: 2.6569 - mae: 3.1122 - val_loss: 3.9224 - val_mae: 4.3915\n",
      "Epoch 42/50\n",
      "13/13 [==============================] - 0s 3ms/step - loss: 2.5651 - mae: 3.0169 - val_loss: 3.8155 - val_mae: 4.2910\n",
      "Epoch 43/50\n",
      "13/13 [==============================] - 0s 4ms/step - loss: 2.4835 - mae: 2.9368 - val_loss: 3.7653 - val_mae: 4.2465\n",
      "Epoch 44/50\n",
      "13/13 [==============================] - ETA: 0s - loss: 2.1271 - mae: 2.572 - 0s 3ms/step - loss: 2.4171 - mae: 2.8709 - val_loss: 3.6680 - val_mae: 4.1483\n",
      "Epoch 45/50\n",
      "13/13 [==============================] - 0s 3ms/step - loss: 2.3396 - mae: 2.7943 - val_loss: 3.7684 - val_mae: 4.2540\n",
      "Epoch 46/50\n",
      "13/13 [==============================] - 0s 4ms/step - loss: 2.2869 - mae: 2.7404 - val_loss: 3.5898 - val_mae: 4.0707\n",
      "Epoch 47/50\n",
      "13/13 [==============================] - 0s 3ms/step - loss: 2.2217 - mae: 2.6732 - val_loss: 3.5731 - val_mae: 4.0460\n",
      "Epoch 48/50\n",
      "13/13 [==============================] - 0s 3ms/step - loss: 2.1753 - mae: 2.6279 - val_loss: 3.5339 - val_mae: 4.0032\n",
      "Epoch 49/50\n",
      "13/13 [==============================] - 0s 3ms/step - loss: 2.1103 - mae: 2.5617 - val_loss: 3.5059 - val_mae: 3.9631\n",
      "Epoch 50/50\n",
      "13/13 [==============================] - 0s 3ms/step - loss: 2.0742 - mae: 2.5233 - val_loss: 3.4622 - val_mae: 3.9135\n"
     ]
    }
   ],
   "source": [
    "history = network.fit(\n",
    "    X_train_prep,\n",
    "    y_train,\n",
    "    epochs=50,\n",
    "    validation_data=(X_val_preep, y_val)\n",
    ")"
   ]
  },
  {
   "cell_type": "code",
   "execution_count": 36,
   "id": "770497c1",
   "metadata": {},
   "outputs": [
    {
     "data": {
      "image/png": "[encoded data removed]",
      "text/plain": [
       "<Figure size 720x432 with 1 Axes>"
      ]
     },
     "metadata": {
      "needs_background": "light"
     },
     "output_type": "display_data"
    }
   ],
   "source": [
    "import pandas as pd\n",
    "import matplotlib.pyplot as plt\n",
    "\n",
    "pd.DataFrame(history.history)[['mae', 'val_mae']].plot(figsize=(10, 6))\n",
    "plt.grid(True)\n",
    "plt.xlabel('Epochs')\n",
    "plt.ylabel('loss')\n",
    "plt.show()"
   ]
  },
  {
   "cell_type": "markdown",
   "id": "9955a974",
   "metadata": {},
   "source": [
    "#### Evaluación de los resultados"
   ]
  },
  {
   "cell_type": "code",
   "execution_count": 37,
   "id": "2006de04",
   "metadata": {},
   "outputs": [
    {
     "name": "stdout",
     "output_type": "stream",
     "text": [
      "2/2 [==============================] - 0s 2ms/step - loss: 16.2792 - mae: 16.7210\n"
     ]
    }
   ],
   "source": [
    "test_loss, test_mae = network.evaluate(X_test_prep, y_test)"
   ]
  },
  {
   "cell_type": "code",
   "execution_count": 38,
   "id": "9af205b5",
   "metadata": {},
   "outputs": [
    {
     "name": "stdout",
     "output_type": "stream",
     "text": [
      "test_mae: 16.721006393432617\n"
     ]
    }
   ],
   "source": [
    "print('test_mae:', test_mae)"
   ]
  },
  {
   "cell_type": "markdown",
   "id": "8c574258",
   "metadata": {},
   "source": [
    "## Guardando el modelo en disco con objetos personalizados"
   ]
  },
  {
   "cell_type": "markdown",
   "id": "66df5995",
   "metadata": {},
   "source": [
    "Cuando nuestro modelo contiene algún componente personalizado, debemos realizar el siguiente procedimiento para almacenar el modelo en disco e importarlo cuando sea necesario"
   ]
  },
  {
   "cell_type": "code",
   "execution_count": 39,
   "id": "51f19dd1",
   "metadata": {},
   "outputs": [],
   "source": [
    "# Guardamos el modelo en disco\n",
    "network.save('modelo_huber_loss.h5')"
   ]
  },
  {
   "cell_type": "code",
   "execution_count": 42,
   "id": "74bbdbb7",
   "metadata": {},
   "outputs": [],
   "source": [
    "# Importamos el modelo previamente guardado en disco\n",
    "network2 = tf.keras.models.load_model('modelo_huber_loss.h5',\n",
    "                                     custom_objects={'huber_fn': create_huber(1.0)})"
   ]
  },
  {
   "cell_type": "code",
   "execution_count": 43,
   "id": "a35792c9",
   "metadata": {},
   "outputs": [
    {
     "name": "stdout",
     "output_type": "stream",
     "text": [
      "Epoch 1/2\n",
      "13/13 [==============================] - 0s 14ms/step - loss: 2.0336 - mae: 2.4850 - val_loss: 3.4560 - val_mae: 3.9061\n",
      "Epoch 2/2\n",
      "13/13 [==============================] - 0s 4ms/step - loss: 2.0047 - mae: 2.4556 - val_loss: 3.4247 - val_mae: 3.8754\n"
     ]
    }
   ],
   "source": [
    " history = network2.fit(\n",
    "     X_train_prep,\n",
    "     y_train,\n",
    "     epochs=2,\n",
    "     validation_data=(X_val_preep, y_val)\n",
    " )"
   ]
  },
  {
   "cell_type": "code",
   "execution_count": null,
   "id": "f079f0fc",
   "metadata": {},
   "outputs": [],
   "source": []
  },
  {
   "cell_type": "code",
   "execution_count": null,
   "id": "8f48eec1",
   "metadata": {},
   "outputs": [],
   "source": []
  }
 ],
 "metadata": {
  "kernelspec": {
   "display_name": "Python 3 (ipykernel)",
   "language": "python",
   "name": "python3"
  },
  "language_info": {
   "codemirror_mode": {
    "name": "ipython",
    "version": 3
   },
   "file_extension": ".py",
   "mimetype": "text/x-python",
   "name": "python",
   "nbconvert_exporter": "python",
   "pygments_lexer": "ipython3",
   "version": "3.8.11"
  }
 },
 "nbformat": 4,
 "nbformat_minor": 5
}
