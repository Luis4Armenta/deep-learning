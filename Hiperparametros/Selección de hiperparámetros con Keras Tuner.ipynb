{
 "cells": [
  {
   "cell_type": "markdown",
   "id": "05e28a42",
   "metadata": {},
   "source": [
    "# Keras Tuner"
   ]
  },
  {
   "cell_type": "markdown",
   "id": "e614a4a5",
   "metadata": {},
   "source": [
    "Keras Tuner es una biblioteca que ayuda a elegir el conjunto optimo de hiperparámetros para tu programa TensorFlow/Keras. El proceso para seleccionar el conjunto correcto de hiperparametros para su aplicación de aprendizaje automatico (ML) se llama _hyperparameter_ o _hypertuning_.\n",
    "\n",
    "Los hiperparámetros son las variables que gobiernan el proceso de entrenamiento y la topología de un modelo de Machine Learning. Esas Variables permanecen constantes durante el proceso de entrenamiento e impactan directamente en el rendimiento del programa. Los hiperparámetros pueden ser de dos tipos:\n",
    "\n",
    "* **Hiperparámetro del modelo** que influye en la selección del modelo, como el número y ancho de las hidden layers\n",
    "* **Hiperparámetros de algoritmo** que influyen en la velocidad y calidad del algoritmo de aprendizaje, como la tasa de aprendizaje para el Descenso de Gradiente Estocástico (SGD)."
   ]
  },
  {
   "cell_type": "markdown",
   "id": "ee10e26d",
   "metadata": {},
   "source": [
    "## 0. Imports"
   ]
  },
  {
   "cell_type": "code",
   "execution_count": 3,
   "id": "e562ccd1",
   "metadata": {},
   "outputs": [],
   "source": [
    "import tensorflow as tf\n",
    "from tensorflow import keras\n",
    "import keras_tuner as kt"
   ]
  },
  {
   "cell_type": "markdown",
   "id": "e1bf8228",
   "metadata": {},
   "source": [
    "## 1. Conjunto de datos"
   ]
  },
  {
   "cell_type": "code",
   "execution_count": 4,
   "id": "470a3148",
   "metadata": {},
   "outputs": [
    {
     "name": "stdout",
     "output_type": "stream",
     "text": [
      "Downloading data from https://storage.googleapis.com/tensorflow/tf-keras-datasets/train-labels-idx1-ubyte.gz\n",
      "32768/29515 [=================================] - 0s 1us/step\n",
      "40960/29515 [=========================================] - 0s 1us/step\n",
      "Downloading data from https://storage.googleapis.com/tensorflow/tf-keras-datasets/train-images-idx3-ubyte.gz\n",
      "26427392/26421880 [==============================] - 7s 0us/step\n",
      "26435584/26421880 [==============================] - 7s 0us/step\n",
      "Downloading data from https://storage.googleapis.com/tensorflow/tf-keras-datasets/t10k-labels-idx1-ubyte.gz\n",
      "16384/5148 [===============================================================================================] - 0s 0s/step\n",
      "Downloading data from https://storage.googleapis.com/tensorflow/tf-keras-datasets/t10k-images-idx3-ubyte.gz\n",
      "4423680/4422102 [==============================] - 1s 0us/step\n",
      "4431872/4422102 [==============================] - 1s 0us/step\n"
     ]
    }
   ],
   "source": [
    "(img_train, label_train), (img_test, label_test) = keras.datasets.fashion_mnist.load_data()"
   ]
  },
  {
   "cell_type": "code",
   "execution_count": 5,
   "id": "269f8438",
   "metadata": {},
   "outputs": [
    {
     "data": {
      "image/png": "[encoded data removed]",
      "text/plain": [
       "<Figure size 1440x288 with 8 Axes>"
      ]
     },
     "metadata": {
      "needs_background": "light"
     },
     "output_type": "display_data"
    }
   ],
   "source": [
    "import numpy as np\n",
    "import matplotlib.pyplot as plt\n",
    "\n",
    "plt.figure(figsize=(20, 4))\n",
    "\n",
    "for index, e in enumerate(img_train[:8]):\n",
    "    plt.subplot(1, 8, index+1)\n",
    "    plt.imshow(e, cmap=plt.cm.gray)\n",
    "    plt.title('Ejemplo: ' + str(index+1))\n",
    "    \n",
    "plt.show()"
   ]
  },
  {
   "cell_type": "code",
   "execution_count": 6,
   "id": "4d4c6354",
   "metadata": {},
   "outputs": [],
   "source": [
    "# Normalizamos el valor de los pixeles entre 0 y 1\n",
    "img_train = img_train.astype('float32') / 255.0\n",
    "img_test = img_test.astype('float32') / 255.0"
   ]
  },
  {
   "cell_type": "markdown",
   "id": "e03c9fb0",
   "metadata": {},
   "source": [
    "## 2. Definición del modelo"
   ]
  },
  {
   "cell_type": "markdown",
   "id": "f841d68a",
   "metadata": {},
   "source": [
    "Cuando se construye un modelo para realizar el hypertuning, debe definirse el espacio de búsqueda de hiperparámetros además de la arquitectura del modelo. El modelo que estableces para realizar _hipertuning_ se llama _hypermodel_.\n",
    "\n",
    "Puedes definir un _hypermodel_ a través de dos enfoques:\n",
    "- Implementando una función que construye el modelo\n",
    "- Creando una subclase la clase **HyperModel** de Keras Tuner API\n",
    "\n",
    "También puedes utilizar dos clases predefinidas de **HyperModel**, **HyperXception** y **HyperResNet** para aplicaciones de visión artificial.\n",
    "\n",
    "En este tutorial, se implementa una función que construye un modelo de clasificación de imágenes. La función devulve un modelo compilado y utiliza los hiperparámetros que se definan para realizar hypertuning del mismo."
   ]
  },
  {
   "cell_type": "code",
   "execution_count": 12,
   "id": "df3a0cb2",
   "metadata": {},
   "outputs": [],
   "source": [
    "def model_builder(hp):\n",
    "    \n",
    "    # Definición del modelo\n",
    "    model = keras.Sequential()\n",
    "    model.add(keras.layers.Flatten(input_shape=(28, 28))) # Transforma los datos de entrada\n",
    "    \n",
    "    # Tunning del número de neuronas de la primera hidden layer\n",
    "    # Seleccionamos el valor optimo entre 32 y 512\n",
    "    hp_units = hp.Int('units', min_value = 32, max_value = 512, step=32)\n",
    "    model.add(keras.layers.Dense(units = hp_units, activation='relu'))\n",
    "    \n",
    "    # Tunning del ratio de aprendizaje para el algoritmo de optimización\n",
    "    # Seleccionamos el valor optimo entre [0.01, 0.001, 0.0001]\n",
    "    hp_learning_rate = hp.Choice('learning_rate', values=[1e-2, 1e-3, 1e-4]) # Recorre los elementos del arreglo\n",
    "    \n",
    "    model.compile(\n",
    "        optimizer=keras.optimizers.Adam(learning_rate = hp_learning_rate),\n",
    "        loss=keras.losses.SparseCategoricalCrossentropy(from_logits=True),\n",
    "        metrics=['accuracy']\n",
    "    )\n",
    "    \n",
    "    return model"
   ]
  },
  {
   "cell_type": "markdown",
   "id": "bd4f7f40",
   "metadata": {},
   "source": [
    "El parámetro hp que recibe la función, se corresponde a un objeto de la clase **HyperParameters**, que, de manera general, se corresponde con un \"almacen\" de hiperparámetros."
   ]
  },
  {
   "cell_type": "markdown",
   "id": "e6fbd9e7",
   "metadata": {},
   "source": [
    "## 3. Instanciando el objeto Tuner para realizar hypertuning"
   ]
  },
  {
   "cell_type": "markdown",
   "id": "18a13585",
   "metadata": {},
   "source": [
    "Una vez función anterior, se instancia el Tuner para realizar el hypertuning, El Keras Tuner tiene cuatro tuners disponibles - `RandomSearch`, **Hyperband**, **BayesianOptimization** y **Sklearn**. En este tutorial, se utiliza **Hyperband**.\n",
    "\n",
    "Para instanciar el tuner de Hyperband, hay que especificar el hypermodel, el objetivo a optimizar y el número máximo de epochs a entrenar (max_epochs)"
   ]
  },
  {
   "cell_type": "code",
   "execution_count": 13,
   "id": "04a5f6cd",
   "metadata": {},
   "outputs": [],
   "source": [
    "tuner = kt.Hyperband(\n",
    "    model_builder,\n",
    "    objective='val_accuracy',\n",
    "    max_epochs=10,\n",
    "    factor=3,\n",
    "    directory='test_dir',\n",
    "    project_name='hp_tuning'\n",
    ")"
   ]
  },
  {
   "cell_type": "markdown",
   "id": "4bfec247",
   "metadata": {},
   "source": [
    "El algoritmo Hyperband utiliza la asignación adaptativa de recursos y la detención temprana para converger rápidamente en un modelo de alto rendimiento. El algoritmo entrena un gran número de modelos durante unos pocos epochs y lleva a la siguiente ronda sólo la mitad de los modelos de mayor rendimiento. Hyperband determina el número de modelos a entrenar mediante la fórmula $1 + log_{factor}(max\\_epochs)$ y redondea el resultado al entero más cercano."
   ]
  },
  {
   "cell_type": "code",
   "execution_count": 14,
   "id": "92ec4880",
   "metadata": {},
   "outputs": [
    {
     "name": "stdout",
     "output_type": "stream",
     "text": [
      "Trial 30 Complete [00h 00m 37s]\n",
      "val_accuracy: 0.772599995136261\n",
      "\n",
      "Best val_accuracy So Far: 0.8230999708175659\n",
      "Total elapsed time: 00h 11m 07s\n",
      "INFO:tensorflow:Oracle triggered exit\n"
     ]
    }
   ],
   "source": [
    "# Ejecución del tuner para la búsqueda de hiperpárametros\n",
    "tuner.search(\n",
    "    img_train,\n",
    "    label_train,\n",
    "    epochs =10,\n",
    "    validation_data=(img_test, label_test)\n",
    ")"
   ]
  },
  {
   "cell_type": "markdown",
   "id": "740d1898",
   "metadata": {},
   "source": [
    "Una vez hemos realizado la búsqueda de los hiperparámetros podemos acceder a los valores óptimos mediante la siguiente sentencia"
   ]
  },
  {
   "cell_type": "code",
   "execution_count": 15,
   "id": "73dfb08f",
   "metadata": {},
   "outputs": [
    {
     "name": "stdout",
     "output_type": "stream",
     "text": [
      "Units:  448\n",
      "Learning rate:  0.0001\n"
     ]
    }
   ],
   "source": [
    "# Obteniendo los hiperparámetros óptimos\n",
    "best_hps = tuner.get_best_hyperparameters(num_trials=1)[0]\n",
    "\n",
    "print('Units: ', best_hps.get('units'))\n",
    "print('Learning rate: ', best_hps.get('learning_rate'))"
   ]
  },
  {
   "cell_type": "markdown",
   "id": "ec3c6347",
   "metadata": {},
   "source": [
    "## 5. Entrenamiento del modelo"
   ]
  },
  {
   "cell_type": "markdown",
   "id": "00ee9de5",
   "metadata": {},
   "source": [
    "Una vez seleccionados los hiperparámetros óptimos, los utilizamos para entrenar el modelo."
   ]
  },
  {
   "cell_type": "code",
   "execution_count": 16,
   "id": "64e2cab6",
   "metadata": {},
   "outputs": [
    {
     "name": "stdout",
     "output_type": "stream",
     "text": [
      "Epoch 1/10\n",
      "1875/1875 [==============================] - 10s 5ms/step - loss: 2.2587 - accuracy: 0.5908 - val_loss: 1.6003 - val_accuracy: 0.6732\n",
      "Epoch 2/10\n",
      "1875/1875 [==============================] - 9s 5ms/step - loss: 1.4718 - accuracy: 0.7056 - val_loss: 1.3957 - val_accuracy: 0.7088\n",
      "Epoch 3/10\n",
      "1875/1875 [==============================] - 9s 5ms/step - loss: 1.3314 - accuracy: 0.7302 - val_loss: 1.3054 - val_accuracy: 0.7280\n",
      "Epoch 4/10\n",
      "1875/1875 [==============================] - 9s 5ms/step - loss: 1.2616 - accuracy: 0.7415 - val_loss: 1.2578 - val_accuracy: 0.7362\n",
      "Epoch 5/10\n",
      "1875/1875 [==============================] - 9s 5ms/step - loss: 1.2199 - accuracy: 0.7503 - val_loss: 1.2251 - val_accuracy: 0.7429\n",
      "Epoch 6/10\n",
      "1875/1875 [==============================] - 10s 6ms/step - loss: 1.1912 - accuracy: 0.7548 - val_loss: 1.2036 - val_accuracy: 0.7444\n",
      "Epoch 7/10\n",
      "1875/1875 [==============================] - 10s 5ms/step - loss: 1.1705 - accuracy: 0.7589 - val_loss: 1.1882 - val_accuracy: 0.7488\n",
      "Epoch 8/10\n",
      "1875/1875 [==============================] - 9s 5ms/step - loss: 1.1542 - accuracy: 0.7618 - val_loss: 1.1739 - val_accuracy: 0.7513\n",
      "Epoch 9/10\n",
      "1875/1875 [==============================] - 8s 4ms/step - loss: 1.1410 - accuracy: 0.7643 - val_loss: 1.1634 - val_accuracy: 0.7538\n",
      "Epoch 10/10\n",
      "1875/1875 [==============================] - 9s 5ms/step - loss: 1.1303 - accuracy: 0.7661 - val_loss: 1.1560 - val_accuracy: 0.7541\n"
     ]
    }
   ],
   "source": [
    "model = tuner.hypermodel.build(best_hps)\n",
    "\n",
    "history = model.fit(\n",
    "    img_train,\n",
    "    label_train,\n",
    "    epochs=10,\n",
    "    validation_data=(img_test, label_test)\n",
    ")"
   ]
  },
  {
   "cell_type": "code",
   "execution_count": 18,
   "id": "bc025bad",
   "metadata": {},
   "outputs": [
    {
     "data": {
      "image/png": "[encoded data removed]",
      "text/plain": [
       "<Figure size 720x504 with 1 Axes>"
      ]
     },
     "metadata": {
      "needs_background": "light"
     },
     "output_type": "display_data"
    }
   ],
   "source": [
    "import pandas as pd\n",
    "pd.DataFrame(history.history)[['accuracy', 'val_accuracy']].plot(figsize=(10, 7))\n",
    "plt.grid(True)\n",
    "plt.xlabel('epochs')\n",
    "plt.show()"
   ]
  },
  {
   "cell_type": "code",
   "execution_count": null,
   "id": "fab6e78d",
   "metadata": {},
   "outputs": [],
   "source": []
  },
  {
   "cell_type": "code",
   "execution_count": null,
   "id": "2b769a1d",
   "metadata": {},
   "outputs": [],
   "source": []
  }
 ],
 "metadata": {
  "kernelspec": {
   "display_name": "Python 3 (ipykernel)",
   "language": "python",
   "name": "python3"
  },
  "language_info": {
   "codemirror_mode": {
    "name": "ipython",
    "version": 3
   },
   "file_extension": ".py",
   "mimetype": "text/x-python",
   "name": "python",
   "nbconvert_exporter": "python",
   "pygments_lexer": "ipython3",
   "version": "3.8.11"
  }
 },
 "nbformat": 4,
 "nbformat_minor": 5
}
